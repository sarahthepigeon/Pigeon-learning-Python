{
 "cells": [
  {
   "cell_type": "markdown",
   "metadata": {},
   "source": [
    "### Day17: Pandas 入门，混合一点点matplotlib & numpy复习\n",
    "\n",
    "你好Sarah！今天让我们学一个数据处理的库，叫做Pandas。顺带一提我自己也对Pandas没什么经验，所以是现学的。什么是Pandas？请Claude姐姐为我们介绍一下\n",
    "\n",
    "Claude：\n",
    "\n",
    "> Pandas是Python中最重要的数据分析库之一！它提供了强大而灵活的数据结构来处理结构化数据。\n",
    "> \n",
    "> 主要特点：\n",
    "> - DataFrame：类似Excel表格的二维数据结构，有行和列\n",
    "> - Series：一维数据结构，类似一列数据\n",
    "> - 强大的数据读取能力：可以读取CSV、Excel、JSON等多种格式\n",
    "> - 数据清洗：处理缺失值、重复数据等\n",
    "> - 数据筛选和分组：类似SQL的查询功能\n",
    "> - 统计分析：计算均值、标准差等统计指标\n",
    "> \n",
    "> 简单来说，如果你需要处理表格数据，Pandas就是你的好朋友！"
   ]
  },
  {
   "cell_type": "markdown",
   "metadata": {
    "vscode": {
     "languageId": "raw"
    }
   },
   "source": [
    "### DataFrame 介绍\n",
    "\n",
    "**DataFrame** 是Pandas的核心数据结构，可以理解为：\n",
    "- 📊 像Excel表格一样的二维数据表\n",
    "- 🗂️ 有行索引(index)和列名(columns)\n",
    "- 🔧 每一列可以是不同的数据类型（数字、文字、日期等）\n",
    "- 💪 支持强大的数据操作功能\n",
    "\n",
    "想象一下一个学生成绩表：\n",
    "- 每一行代表一个学生\n",
    "- 每一列代表不同信息（姓名、数学成绩、英语成绩等）\n",
    "- 这就是DataFrame的典型应用！\n"
   ]
  },
  {
   "cell_type": "code",
   "execution_count": null,
   "metadata": {},
   "outputs": [],
   "source": [
    "# DataFrame 基础演示\n",
    "import pandas as pd\n",
    "\n",
    "# 创建一个简单的学生成绩DataFrame\n",
    "data = {\n",
    "    '姓名': ['小明', '小红', '小李', '小张'],\n",
    "    '数学': [95, 87, 92, 78],\n",
    "    '英语': [88, 94, 85, 90],\n",
    "    '年龄': [18, 17, 18, 17]\n",
    "}\n",
    "\n",
    "# 从字典创建DataFrame\n",
    "df = pd.DataFrame(data)\n",
    "print(\"创建的DataFrame:\")\n",
    "print(df)\n",
    "print()\n",
    "\n",
    "# 查看基本信息\n",
    "print(\"数据形状 (行数, 列数):\", df.shape)\n",
    "print(\"列名:\", df.columns.tolist())\n",
    "print(\"数据类型:\")\n",
    "print(df.dtypes)\n"
   ]
  },
  {
   "cell_type": "markdown",
   "metadata": {
    "vscode": {
     "languageId": "raw"
    }
   },
   "source": [
    "### Series 介绍\n",
    "\n",
    "**Series** 是Pandas的一维数据结构，可以理解为：\n",
    "- 📝 像增强版的列表，但有索引标签\n",
    "- 🔢 所有元素必须是同一种数据类型\n",
    "- 🏷️ 每个值都有对应的索引(index)\n",
    "- ⚡ 支持向量化运算，比普通列表更快\n",
    "\n",
    "可以把Series想象成：\n",
    "- DataFrame的一列就是一个Series\n",
    "- 带标签的一维数组\n",
    "- 字典的升级版（键值对，但值可以批量操作）\n"
   ]
  },
  {
   "cell_type": "code",
   "execution_count": null,
   "metadata": {},
   "outputs": [],
   "source": [
    "# Series 基础演示\n",
    "\n",
    "# 方法1：从列表创建Series\n",
    "scores = pd.Series([95, 87, 92, 78])\n",
    "print(\"从列表创建的Series:\")\n",
    "print(scores)\n",
    "print()\n",
    "\n",
    "# 方法2：从字典创建Series（带自定义索引）\n",
    "scores_with_names = pd.Series({\n",
    "    '小明': 95,\n",
    "    '小红': 87, \n",
    "    '小李': 92,\n",
    "    '小张': 78\n",
    "})\n",
    "print(\"从字典创建的Series:\")\n",
    "print(scores_with_names)\n",
    "print()\n",
    "\n",
    "# Series的基本操作\n",
    "print(\"Series的长度:\", len(scores_with_names))\n",
    "print(\"最大值:\", scores_with_names.max())\n",
    "print(\"平均值:\", scores_with_names.mean())\n",
    "print()\n",
    "\n",
    "# 从DataFrame提取Series\n",
    "print(\"从DataFrame提取'数学'列:\")\n",
    "math_series = df['数学']\n",
    "print(math_series)\n",
    "print(\"这个Series的类型:\", type(math_series))\n"
   ]
  }
 ],
 "metadata": {
  "kernelspec": {
   "display_name": "Python 3",
   "language": "python",
   "name": "python3"
  },
  "language_info": {
   "codemirror_mode": {
    "name": "ipython",
    "version": 3
   },
   "file_extension": ".py",
   "mimetype": "text/x-python",
   "name": "python",
   "nbconvert_exporter": "python",
   "pygments_lexer": "ipython3",
   "version": "3.13.0"
  }
 },
 "nbformat": 4,
 "nbformat_minor": 2
}
