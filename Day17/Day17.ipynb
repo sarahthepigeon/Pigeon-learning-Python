{
 "cells": [
  {
   "cell_type": "markdown",
   "metadata": {},
   "source": [
    "### Day17: Pandas 入门，混合一点点matplotlib & numpy复习\n",
    "\n",
    "你好Sarah！今天让我们学一个数据处理的库，叫做Pandas。顺带一提我自己也对Pandas没什么经验，所以是现学的。什么是Pandas？请Claude姐姐为我们介绍一下\n",
    "\n",
    "Claude：\n",
    "\n",
    "> Pandas是Python中最重要的数据分析库之一！它提供了强大而灵活的数据结构来处理结构化数据。\n",
    "> \n",
    "> 主要特点：\n",
    "> - DataFrame：类似Excel表格的二维数据结构，有行和列\n",
    "> - Series：一维数据结构，类似一列数据\n",
    "> - 强大的数据读取能力：可以读取CSV、Excel、JSON等多种格式\n",
    "> - 数据清洗：处理缺失值、重复数据等\n",
    "> - 数据筛选和分组：类似SQL的查询功能\n",
    "> - 统计分析：计算均值、标准差等统计指标\n",
    "> \n",
    "> 简单来说，如果你需要处理表格数据，Pandas就是你的好朋友！"
   ]
  },
  {
   "cell_type": "markdown",
   "metadata": {
    "vscode": {
     "languageId": "raw"
    }
   },
   "source": [
    "### DataFrame 介绍\n",
    "\n",
    "**DataFrame** 是Pandas的核心数据结构，可以理解为：\n",
    "- 📊 像Excel表格一样的二维数据表\n",
    "- 🗂️ 有行索引(index)和列名(columns)\n",
    "- 🔧 每一列可以是不同的数据类型（数字、文字、日期等）\n",
    "- 💪 支持强大的数据操作功能\n",
    "\n",
    "想象一下一个学生成绩表：\n",
    "- 每一行代表一个学生\n",
    "- 每一列代表不同信息（姓名、数学成绩、英语成绩等）\n",
    "- 这就是DataFrame的典型应用！\n"
   ]
  },
  {
   "cell_type": "code",
   "execution_count": null,
   "metadata": {},
   "outputs": [],
   "source": [
    "# 导入pandas库并创建DataFrame\n",
    "import pandas as pd\n",
    "\n",
    "# 创建一个简单的学生成绩DataFrame\n",
    "data = {\n",
    "    '姓名': ['小明', '小红', '小李', '小张'],\n",
    "    '数学': [95, 87, 92, 78],\n",
    "    '英语': [88, 94, 85, 90],\n",
    "    '年龄': [18, 17, 18, 17]\n",
    "}\n",
    "\n",
    "df = pd.DataFrame(data)\n",
    "print(\"创建的DataFrame:\")\n",
    "print(df)"
   ]
  },
  {
   "cell_type": "code",
   "execution_count": null,
   "metadata": {},
   "outputs": [],
   "source": [
    "# 查看DataFrame的基本信息\n",
    "print(\"数据形状 (行数, 列数):\", df.shape)\n",
    "print(\"列名:\", df.columns.tolist())\n",
    "print(\"数据类型:\")\n",
    "print(df.dtypes)"
   ]
  },
  {
   "cell_type": "markdown",
   "metadata": {
    "vscode": {
     "languageId": "raw"
    }
   },
   "source": [
    "### Series 介绍\n",
    "\n",
    "**Series** 是Pandas的一维数据结构，可以理解为：\n",
    "- 📝 像增强版的列表，但有索引标签\n",
    "- 🔢 所有元素必须是同一种数据类型\n",
    "- 🏷️ 每个值都有对应的索引(index)\n",
    "- ⚡ 支持向量化运算，比普通列表更快\n",
    "\n",
    "可以把Series想象成：\n",
    "- DataFrame的一列就是一个Series\n",
    "- 带标签的一维数组\n",
    "- 字典的升级版（键值对，但值可以批量操作）\n"
   ]
  },
  {
   "cell_type": "code",
   "execution_count": null,
   "metadata": {},
   "outputs": [],
   "source": [
    "# 创建Series：从列表创建\n",
    "scores = pd.Series([95, 87, 92, 78])\n",
    "scores"
   ]
  },
  {
   "cell_type": "code",
   "execution_count": null,
   "metadata": {},
   "outputs": [],
   "source": [
    "# 创建Series：从字典创建（带自定义索引）\n",
    "scores_with_names = pd.Series({\n",
    "    '小明': 95,\n",
    "    '小红': 87, \n",
    "    '小李': 92,\n",
    "    '小张': 78\n",
    "})\n",
    "scores_with_names"
   ]
  },
  {
   "cell_type": "code",
   "execution_count": null,
   "metadata": {},
   "outputs": [],
   "source": [
    "# Series的基本操作\n",
    "print(\"Series的长度:\", len(scores_with_names))\n",
    "print(\"最大值:\", scores_with_names.max())\n",
    "print(\"平均值:\", scores_with_names.mean())"
   ]
  },
  {
   "cell_type": "markdown",
   "metadata": {
    "vscode": {
     "languageId": "raw"
    }
   },
   "source": [
    "### DataFrame 最常用的方法\n",
    "\n",
    "让我们来看看DataFrame最实用的方法，都是日常数据处理必备的！\n",
    "\n",
    "**📊 查看数据**\n",
    "- `df.head()` - 看前5行数据\n",
    "- `df.tail()` - 看后5行数据  \n",
    "- `df.info()` - 查看数据概况（行数、列数、数据类型等）\n",
    "- `df.describe()` - 统计描述（均值、最大值、最小值等）\n",
    "\n",
    "**🔍 选择数据**\n",
    "- `df['列名']` - 选择一列\n",
    "- `df[['列1', '列2']]` - 选择多列\n",
    "- `df.loc[行索引, 列名]` - 按标签选择\n",
    "- `df.iloc[行号, 列号]` - 按位置选择\n",
    "\n",
    "**🎯 筛选数据**\n",
    "- `df[df['列名'] > 值]` - 条件筛选\n",
    "- `df.sort_values('列名')` - 按列排序\n",
    "- `df.drop_duplicates()` - 去重\n",
    "\n",
    "**🧮 计算统计**\n",
    "- `df.mean()` - 平均值\n",
    "- `df.sum()` - 求和\n",
    "- `df.count()` - 计数\n",
    "- `df.groupby('列名').mean()` - 分组统计\n",
    "\n",
    "**✏️ 修改数据**\n",
    "- `df['新列'] = 值` - 添加新列\n",
    "- `df.drop('列名', axis=1)` - 删除列\n",
    "- `df.fillna(值)` - 填充缺失值\n"
   ]
  },
  {
   "cell_type": "markdown",
   "metadata": {},
   "source": [
    "### 查看数据"
   ]
  },
  {
   "cell_type": "code",
   "execution_count": null,
   "metadata": {},
   "outputs": [],
   "source": [
    "# 查看前3行数据\n",
    "df.head(3)"
   ]
  },
  {
   "cell_type": "code",
   "execution_count": null,
   "metadata": {},
   "outputs": [],
   "source": [
    "df.tail(3)"
   ]
  },
  {
   "cell_type": "code",
   "execution_count": null,
   "metadata": {},
   "outputs": [],
   "source": [
    "# 查看数据概况\n",
    "df.info()"
   ]
  },
  {
   "cell_type": "code",
   "execution_count": null,
   "metadata": {},
   "outputs": [],
   "source": [
    "# 统计描述\n",
    "df.describe()"
   ]
  },
  {
   "cell_type": "markdown",
   "metadata": {},
   "source": [
    "### 选择数据"
   ]
  },
  {
   "cell_type": "code",
   "execution_count": null,
   "metadata": {},
   "outputs": [],
   "source": [
    "# 选择数学列\n",
    "df['数学']"
   ]
  },
  {
   "cell_type": "code",
   "execution_count": null,
   "metadata": {},
   "outputs": [],
   "source": [
    "# 选择姓名和数学两列\n",
    "df[['姓名', '数学']]"
   ]
  },
  {
   "cell_type": "code",
   "execution_count": null,
   "metadata": {},
   "outputs": [],
   "source": [
    "# 选一列就是Series，选多列就是DataFrame\n",
    "type(df[[\"数学\", \"英语\"]]), type(df[\"数学\"])"
   ]
  },
  {
   "cell_type": "code",
   "execution_count": null,
   "metadata": {},
   "outputs": [],
   "source": [
    "df.loc[0, \"数学\"]"
   ]
  },
  {
   "cell_type": "code",
   "execution_count": null,
   "metadata": {},
   "outputs": [],
   "source": [
    "df.iloc[0, 1]"
   ]
  },
  {
   "cell_type": "markdown",
   "metadata": {},
   "source": [
    "Ken: df.loc 和 df.iloc分别是什么的缩写?\n",
    "\n",
    "Claude:\n",
    "\n",
    "> `df.loc` 和 `df.iloc` 的缩写含义：\n",
    "> \n",
    "> df.loc\n",
    "> - **loc** = **location**（位置）\n",
    "> - 基于**标签/索引名称**的位置选择器\n",
    "> - 使用行和列的**实际标签**进行索引\n",
    "> \n",
    "> df.iloc  \n",
    "> - **iloc** = **integer location**（整数位置）\n",
    "> - 基于**整数位置**的选择器\n",
    "> - 使用**数字索引**（从0开始）进行索引"
   ]
  },
  {
   "cell_type": "markdown",
   "metadata": {},
   "source": [
    "### 筛选数据"
   ]
  },
  {
   "cell_type": "code",
   "execution_count": null,
   "metadata": {},
   "outputs": [],
   "source": [
    "# 🎯 筛选数学成绩大于90的学生\n",
    "df[df['数学'] > 90]"
   ]
  },
  {
   "cell_type": "code",
   "execution_count": null,
   "metadata": {},
   "outputs": [],
   "source": [
    "# 🎯 按数学成绩排序\n",
    "df.sort_values('数学', ascending=False)"
   ]
  },
  {
   "cell_type": "code",
   "execution_count": null,
   "metadata": {},
   "outputs": [],
   "source": [
    "# 🎯 按年龄分组，计算平均数学成绩\n",
    "# Ken: 这个我记不住😓\n",
    "df.groupby('年龄')['数学'].mean()"
   ]
  },
  {
   "cell_type": "markdown",
   "metadata": {},
   "source": [
    "### 修改数据"
   ]
  },
  {
   "cell_type": "code",
   "execution_count": null,
   "metadata": {},
   "outputs": [],
   "source": [
    "# 添加总分列\n",
    "df['总分'] = df['数学'] + df['英语']\n",
    "df"
   ]
  },
  {
   "cell_type": "markdown",
   "metadata": {},
   "source": [
    "今天的内容对我而言有点枯燥无趣，而且我也是一边学一边写的。我现在也有点觉得这个Python “太不可预测了”，让我感到有点不舒服。\n",
    "\n",
    "明天我们学习一些csv文件读写之类的，加上实际的例子，会稍微有趣一点点。\n",
    "\n",
    "加油Sarah！"
   ]
  }
 ],
 "metadata": {
  "kernelspec": {
   "display_name": "Python 3",
   "language": "python",
   "name": "python3"
  },
  "language_info": {
   "codemirror_mode": {
    "name": "ipython",
    "version": 3
   },
   "file_extension": ".py",
   "mimetype": "text/x-python",
   "name": "python",
   "nbconvert_exporter": "python",
   "pygments_lexer": "ipython3",
   "version": "3.12.4"
  }
 },
 "nbformat": 4,
 "nbformat_minor": 2
}
