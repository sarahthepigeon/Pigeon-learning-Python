{
 "cells": [
  {
   "cell_type": "markdown",
   "metadata": {},
   "source": [
    "### Day17: Pandas 入门，混合一点点matplotlib & numpy复习\n",
    "\n",
    "你好Sarah！今天让我们学一个数据处理的库，叫做Pandas。顺带一提我自己也对Pandas没什么经验，所以是现学的。什么是Pandas？请Claude姐姐为我们介绍一下\n",
    "\n",
    "Claude：\n",
    "\n",
    "> Pandas是Python中最重要的数据分析库之一！它提供了强大而灵活的数据结构来处理结构化数据。\n",
    "> \n",
    "> 主要特点：\n",
    "> - DataFrame：类似Excel表格的二维数据结构，有行和列\n",
    "> - Series：一维数据结构，类似一列数据\n",
    "> - 强大的数据读取能力：可以读取CSV、Excel、JSON等多种格式\n",
    "> - 数据清洗：处理缺失值、重复数据等\n",
    "> - 数据筛选和分组：类似SQL的查询功能\n",
    "> - 统计分析：计算均值、标准差等统计指标\n",
    "> \n",
    "> 简单来说，如果你需要处理表格数据，Pandas就是你的好朋友！"
   ]
  },
  {
   "cell_type": "markdown",
   "metadata": {
    "vscode": {
     "languageId": "raw"
    }
   },
   "source": [
    "### DataFrame 介绍\n",
    "\n",
    "**DataFrame** 是Pandas的核心数据结构，可以理解为：\n",
    "- 📊 像Excel表格一样的二维数据表\n",
    "- 🗂️ 有行索引(index)和列名(columns)\n",
    "- 🔧 每一列可以是不同的数据类型（数字、文字、日期等）\n",
    "- 💪 支持强大的数据操作功能\n",
    "\n",
    "想象一下一个学生成绩表：\n",
    "- 每一行代表一个学生\n",
    "- 每一列代表不同信息（姓名、数学成绩、英语成绩等）\n",
    "- 这就是DataFrame的典型应用！\n"
   ]
  },
  {
   "cell_type": "code",
   "execution_count": 7,
   "metadata": {},
   "outputs": [
    {
     "name": "stdout",
     "output_type": "stream",
     "text": [
      "创建的DataFrame:\n",
      "   姓名     数学  英语  年龄\n",
      "0  小明     95  88  18\n",
      "1  小红  hello  94  17\n",
      "2  小李     92  85  18\n",
      "3  小张     78  90  17\n"
     ]
    }
   ],
   "source": [
    "# 导入pandas库并创建DataFrame\n",
    "import pandas as pd\n",
    "\n",
    "# 创建一个简单的学生成绩DataFrame\n",
    "data = {\n",
    "    '姓名': ['小明', '小红', '小李', '小张'],\n",
    "    '数学': [95, \"hello\" , 92, 78],\n",
    "    '英语': [88, 94, 85, 90],\n",
    "    '年龄': [18, 17, 18, 17]\n",
    "}\n",
    "\n",
    "df = pd.DataFrame(data)\n",
    "print(\"创建的DataFrame:\")\n",
    "print(df)"
   ]
  },
  {
   "cell_type": "code",
   "execution_count": 5,
   "metadata": {},
   "outputs": [
    {
     "name": "stdout",
     "output_type": "stream",
     "text": [
      "数据形状 (行数, 列数): (4, 4)\n",
      "列名: ['姓名', '数学', '英语', '年龄']\n",
      "数据类型:\n",
      "姓名    object\n",
      "数学     int64\n",
      "英语     int64\n",
      "年龄     int64\n",
      "dtype: object\n"
     ]
    }
   ],
   "source": [
    "# 查看DataFrame的基本信息\n",
    "print(\"数据形状 (行数, 列数):\", df.shape)\n",
    "print(\"列名:\", df.columns.tolist())\n",
    "print(\"数据类型:\")\n",
    "print(df.dtypes)"
   ]
  },
  {
   "cell_type": "markdown",
   "metadata": {
    "vscode": {
     "languageId": "raw"
    }
   },
   "source": [
    "### Series 介绍\n",
    "\n",
    "**Series** 是Pandas的一维数据结构，可以理解为：\n",
    "- 📝 像增强版的列表，但有索引标签\n",
    "- 🔢 所有元素必须是同一种数据类型       # 好像并不需要？？\n",
    "- 🏷️ 每个值都有对应的索引(index)\n",
    "- ⚡ 支持向量化运算，比普通列表更快\n",
    "\n",
    "可以把Series想象成：\n",
    "- DataFrame的一列就是一个Series\n",
    "- 带标签的一维数组\n",
    "- 字典的升级版（键值对，但值可以批量操作）\n"
   ]
  },
  {
   "cell_type": "code",
   "execution_count": 9,
   "metadata": {},
   "outputs": [
    {
     "data": {
      "text/plain": [
       "0       95\n",
       "1       87\n",
       "2       92\n",
       "3    hello\n",
       "dtype: object"
      ]
     },
     "execution_count": 9,
     "metadata": {},
     "output_type": "execute_result"
    }
   ],
   "source": [
    "# 创建Series：从列表创建\n",
    "scores = pd.Series([95, 87, 92, \"hello\"])\n",
    "scores"
   ]
  },
  {
   "cell_type": "code",
   "execution_count": 10,
   "metadata": {},
   "outputs": [
    {
     "data": {
      "text/plain": [
       "小明    95\n",
       "小红    87\n",
       "小李    92\n",
       "小张    78\n",
       "dtype: int64"
      ]
     },
     "execution_count": 10,
     "metadata": {},
     "output_type": "execute_result"
    }
   ],
   "source": [
    "# 创建Series：从字典创建（带自定义索引）\n",
    "scores_with_names = pd.Series({\n",
    "    '小明': 95,\n",
    "    '小红': 87, \n",
    "    '小李': 92,\n",
    "    '小张': 78\n",
    "})\n",
    "scores_with_names"
   ]
  },
  {
   "cell_type": "code",
   "execution_count": 15,
   "metadata": {},
   "outputs": [
    {
     "name": "stdout",
     "output_type": "stream",
     "text": [
      "Series的长度: 4\n",
      "最大值: 95\n",
      "平均值: 88.0\n"
     ]
    }
   ],
   "source": [
    "# Series的基本操作\n",
    "print(\"Series的长度:\", len(scores_with_names))\n",
    "print(\"最大值:\", scores_with_names.max())\n",
    "print(\"平均值:\", scores_with_names.mean())"
   ]
  },
  {
   "cell_type": "markdown",
   "metadata": {
    "vscode": {
     "languageId": "raw"
    }
   },
   "source": [
    "### DataFrame 最常用的方法\n",
    "\n",
    "让我们来看看DataFrame最实用的方法，都是日常数据处理必备的！\n",
    "\n",
    "**📊 查看数据**\n",
    "- `df.head()` - 看前5行数据\n",
    "- `df.tail()` - 看后5行数据  \n",
    "- `df.info()` - 查看数据概况（行数、列数、数据类型等）\n",
    "- `df.describe()` - 统计描述（均值、最大值、最小值等）\n",
    "\n",
    "**🔍 选择数据**\n",
    "- `df['列名']` - 选择一列\n",
    "- `df[['列1', '列2']]` - 选择多列\n",
    "- `df.loc[行索引, 列名]` - 按标签选择\n",
    "- `df.iloc[行号, 列号]` - 按位置选择\n",
    "\n",
    "**🎯 筛选数据**\n",
    "- `df[df['列名'] > 值]` - 条件筛选\n",
    "- `df.sort_values('列名')` - 按列排序\n",
    "- `df.drop_duplicates()` - 去重\n",
    "\n",
    "**🧮 计算统计**\n",
    "- `df.mean()` - 平均值\n",
    "- `df.sum()` - 求和\n",
    "- `df.count()` - 计数\n",
    "- `df.groupby('列名').mean()` - 分组统计\n",
    "\n",
    "**✏️ 修改数据**\n",
    "- `df['新列'] = 值` - 添加新列\n",
    "- `df.drop('列名', axis=1)` - 删除列\n",
    "- `df.fillna(值)` - 填充缺失值\n"
   ]
  },
  {
   "cell_type": "markdown",
   "metadata": {},
   "source": [
    "### 查看数据"
   ]
  },
  {
   "cell_type": "code",
   "execution_count": 11,
   "metadata": {},
   "outputs": [
    {
     "data": {
      "text/html": [
       "<div>\n",
       "<style scoped>\n",
       "    .dataframe tbody tr th:only-of-type {\n",
       "        vertical-align: middle;\n",
       "    }\n",
       "\n",
       "    .dataframe tbody tr th {\n",
       "        vertical-align: top;\n",
       "    }\n",
       "\n",
       "    .dataframe thead th {\n",
       "        text-align: right;\n",
       "    }\n",
       "</style>\n",
       "<table border=\"1\" class=\"dataframe\">\n",
       "  <thead>\n",
       "    <tr style=\"text-align: right;\">\n",
       "      <th></th>\n",
       "      <th>姓名</th>\n",
       "      <th>数学</th>\n",
       "      <th>英语</th>\n",
       "      <th>年龄</th>\n",
       "    </tr>\n",
       "  </thead>\n",
       "  <tbody>\n",
       "    <tr>\n",
       "      <th>0</th>\n",
       "      <td>小明</td>\n",
       "      <td>95</td>\n",
       "      <td>88</td>\n",
       "      <td>18</td>\n",
       "    </tr>\n",
       "    <tr>\n",
       "      <th>1</th>\n",
       "      <td>小红</td>\n",
       "      <td>hello</td>\n",
       "      <td>94</td>\n",
       "      <td>17</td>\n",
       "    </tr>\n",
       "    <tr>\n",
       "      <th>2</th>\n",
       "      <td>小李</td>\n",
       "      <td>92</td>\n",
       "      <td>85</td>\n",
       "      <td>18</td>\n",
       "    </tr>\n",
       "  </tbody>\n",
       "</table>\n",
       "</div>"
      ],
      "text/plain": [
       "   姓名     数学  英语  年龄\n",
       "0  小明     95  88  18\n",
       "1  小红  hello  94  17\n",
       "2  小李     92  85  18"
      ]
     },
     "execution_count": 11,
     "metadata": {},
     "output_type": "execute_result"
    }
   ],
   "source": [
    "# 查看前3行数据\n",
    "df.head(3)"
   ]
  },
  {
   "cell_type": "code",
   "execution_count": 12,
   "metadata": {},
   "outputs": [
    {
     "data": {
      "text/html": [
       "<div>\n",
       "<style scoped>\n",
       "    .dataframe tbody tr th:only-of-type {\n",
       "        vertical-align: middle;\n",
       "    }\n",
       "\n",
       "    .dataframe tbody tr th {\n",
       "        vertical-align: top;\n",
       "    }\n",
       "\n",
       "    .dataframe thead th {\n",
       "        text-align: right;\n",
       "    }\n",
       "</style>\n",
       "<table border=\"1\" class=\"dataframe\">\n",
       "  <thead>\n",
       "    <tr style=\"text-align: right;\">\n",
       "      <th></th>\n",
       "      <th>姓名</th>\n",
       "      <th>数学</th>\n",
       "      <th>英语</th>\n",
       "      <th>年龄</th>\n",
       "    </tr>\n",
       "  </thead>\n",
       "  <tbody>\n",
       "    <tr>\n",
       "      <th>1</th>\n",
       "      <td>小红</td>\n",
       "      <td>hello</td>\n",
       "      <td>94</td>\n",
       "      <td>17</td>\n",
       "    </tr>\n",
       "    <tr>\n",
       "      <th>2</th>\n",
       "      <td>小李</td>\n",
       "      <td>92</td>\n",
       "      <td>85</td>\n",
       "      <td>18</td>\n",
       "    </tr>\n",
       "    <tr>\n",
       "      <th>3</th>\n",
       "      <td>小张</td>\n",
       "      <td>78</td>\n",
       "      <td>90</td>\n",
       "      <td>17</td>\n",
       "    </tr>\n",
       "  </tbody>\n",
       "</table>\n",
       "</div>"
      ],
      "text/plain": [
       "   姓名     数学  英语  年龄\n",
       "1  小红  hello  94  17\n",
       "2  小李     92  85  18\n",
       "3  小张     78  90  17"
      ]
     },
     "execution_count": 12,
     "metadata": {},
     "output_type": "execute_result"
    }
   ],
   "source": [
    "df.tail(3)"
   ]
  },
  {
   "cell_type": "code",
   "execution_count": 13,
   "metadata": {},
   "outputs": [
    {
     "name": "stdout",
     "output_type": "stream",
     "text": [
      "<class 'pandas.core.frame.DataFrame'>\n",
      "RangeIndex: 4 entries, 0 to 3\n",
      "Data columns (total 4 columns):\n",
      " #   Column  Non-Null Count  Dtype \n",
      "---  ------  --------------  ----- \n",
      " 0   姓名      4 non-null      object\n",
      " 1   数学      4 non-null      object\n",
      " 2   英语      4 non-null      int64 \n",
      " 3   年龄      4 non-null      int64 \n",
      "dtypes: int64(2), object(2)\n",
      "memory usage: 260.0+ bytes\n"
     ]
    }
   ],
   "source": [
    "# 查看数据概况\n",
    "df.info()"
   ]
  },
  {
   "cell_type": "code",
   "execution_count": 14,
   "metadata": {},
   "outputs": [
    {
     "data": {
      "text/html": [
       "<div>\n",
       "<style scoped>\n",
       "    .dataframe tbody tr th:only-of-type {\n",
       "        vertical-align: middle;\n",
       "    }\n",
       "\n",
       "    .dataframe tbody tr th {\n",
       "        vertical-align: top;\n",
       "    }\n",
       "\n",
       "    .dataframe thead th {\n",
       "        text-align: right;\n",
       "    }\n",
       "</style>\n",
       "<table border=\"1\" class=\"dataframe\">\n",
       "  <thead>\n",
       "    <tr style=\"text-align: right;\">\n",
       "      <th></th>\n",
       "      <th>英语</th>\n",
       "      <th>年龄</th>\n",
       "    </tr>\n",
       "  </thead>\n",
       "  <tbody>\n",
       "    <tr>\n",
       "      <th>count</th>\n",
       "      <td>4.000000</td>\n",
       "      <td>4.00000</td>\n",
       "    </tr>\n",
       "    <tr>\n",
       "      <th>mean</th>\n",
       "      <td>89.250000</td>\n",
       "      <td>17.50000</td>\n",
       "    </tr>\n",
       "    <tr>\n",
       "      <th>std</th>\n",
       "      <td>3.774917</td>\n",
       "      <td>0.57735</td>\n",
       "    </tr>\n",
       "    <tr>\n",
       "      <th>min</th>\n",
       "      <td>85.000000</td>\n",
       "      <td>17.00000</td>\n",
       "    </tr>\n",
       "    <tr>\n",
       "      <th>25%</th>\n",
       "      <td>87.250000</td>\n",
       "      <td>17.00000</td>\n",
       "    </tr>\n",
       "    <tr>\n",
       "      <th>50%</th>\n",
       "      <td>89.000000</td>\n",
       "      <td>17.50000</td>\n",
       "    </tr>\n",
       "    <tr>\n",
       "      <th>75%</th>\n",
       "      <td>91.000000</td>\n",
       "      <td>18.00000</td>\n",
       "    </tr>\n",
       "    <tr>\n",
       "      <th>max</th>\n",
       "      <td>94.000000</td>\n",
       "      <td>18.00000</td>\n",
       "    </tr>\n",
       "  </tbody>\n",
       "</table>\n",
       "</div>"
      ],
      "text/plain": [
       "              英语        年龄\n",
       "count   4.000000   4.00000\n",
       "mean   89.250000  17.50000\n",
       "std     3.774917   0.57735\n",
       "min    85.000000  17.00000\n",
       "25%    87.250000  17.00000\n",
       "50%    89.000000  17.50000\n",
       "75%    91.000000  18.00000\n",
       "max    94.000000  18.00000"
      ]
     },
     "execution_count": 14,
     "metadata": {},
     "output_type": "execute_result"
    }
   ],
   "source": [
    "# 统计描述\n",
    "df.describe()"
   ]
  },
  {
   "cell_type": "markdown",
   "metadata": {},
   "source": [
    "### 选择数据"
   ]
  },
  {
   "cell_type": "code",
   "execution_count": 16,
   "metadata": {},
   "outputs": [
    {
     "data": {
      "text/plain": [
       "0       95\n",
       "1    hello\n",
       "2       92\n",
       "3       78\n",
       "Name: 数学, dtype: object"
      ]
     },
     "execution_count": 16,
     "metadata": {},
     "output_type": "execute_result"
    }
   ],
   "source": [
    "# 选择数学列\n",
    "df['数学']"
   ]
  },
  {
   "cell_type": "code",
   "execution_count": 17,
   "metadata": {},
   "outputs": [
    {
     "data": {
      "text/html": [
       "<div>\n",
       "<style scoped>\n",
       "    .dataframe tbody tr th:only-of-type {\n",
       "        vertical-align: middle;\n",
       "    }\n",
       "\n",
       "    .dataframe tbody tr th {\n",
       "        vertical-align: top;\n",
       "    }\n",
       "\n",
       "    .dataframe thead th {\n",
       "        text-align: right;\n",
       "    }\n",
       "</style>\n",
       "<table border=\"1\" class=\"dataframe\">\n",
       "  <thead>\n",
       "    <tr style=\"text-align: right;\">\n",
       "      <th></th>\n",
       "      <th>姓名</th>\n",
       "      <th>数学</th>\n",
       "    </tr>\n",
       "  </thead>\n",
       "  <tbody>\n",
       "    <tr>\n",
       "      <th>0</th>\n",
       "      <td>小明</td>\n",
       "      <td>95</td>\n",
       "    </tr>\n",
       "    <tr>\n",
       "      <th>1</th>\n",
       "      <td>小红</td>\n",
       "      <td>hello</td>\n",
       "    </tr>\n",
       "    <tr>\n",
       "      <th>2</th>\n",
       "      <td>小李</td>\n",
       "      <td>92</td>\n",
       "    </tr>\n",
       "    <tr>\n",
       "      <th>3</th>\n",
       "      <td>小张</td>\n",
       "      <td>78</td>\n",
       "    </tr>\n",
       "  </tbody>\n",
       "</table>\n",
       "</div>"
      ],
      "text/plain": [
       "   姓名     数学\n",
       "0  小明     95\n",
       "1  小红  hello\n",
       "2  小李     92\n",
       "3  小张     78"
      ]
     },
     "execution_count": 17,
     "metadata": {},
     "output_type": "execute_result"
    }
   ],
   "source": [
    "# 选择姓名和数学两列\n",
    "df[['姓名', '数学']]"
   ]
  },
  {
   "cell_type": "code",
   "execution_count": 18,
   "metadata": {},
   "outputs": [
    {
     "data": {
      "text/plain": [
       "(pandas.core.frame.DataFrame, pandas.core.series.Series)"
      ]
     },
     "execution_count": 18,
     "metadata": {},
     "output_type": "execute_result"
    }
   ],
   "source": [
    "# 选一列就是Series，选多列就是DataFrame\n",
    "type(df[[\"数学\", \"英语\"]]), type(df[\"数学\"])"
   ]
  },
  {
   "cell_type": "code",
   "execution_count": 24,
   "metadata": {},
   "outputs": [
    {
     "data": {
      "text/plain": [
       "'hello'"
      ]
     },
     "execution_count": 24,
     "metadata": {},
     "output_type": "execute_result"
    }
   ],
   "source": [
    "df.loc[1, \"数学\"]"
   ]
  },
  {
   "cell_type": "code",
   "execution_count": 27,
   "metadata": {},
   "outputs": [
    {
     "data": {
      "text/plain": [
       "92"
      ]
     },
     "execution_count": 27,
     "metadata": {},
     "output_type": "execute_result"
    }
   ],
   "source": [
    "df.iloc[2, 1]"
   ]
  },
  {
   "cell_type": "markdown",
   "metadata": {},
   "source": [
    "Ken: df.loc 和 df.iloc分别是什么的缩写?\n",
    "\n",
    "Claude:\n",
    "\n",
    "> `df.loc` 和 `df.iloc` 的缩写含义：\n",
    "> \n",
    "> df.loc\n",
    "> - **loc** = **location**（位置）\n",
    "> - 基于**标签/索引名称**的位置选择器\n",
    "> - 使用行和列的**实际标签**进行索引\n",
    "> \n",
    "> df.iloc  \n",
    "> - **iloc** = **integer location**（整数位置）\n",
    "> - 基于**整数位置**的选择器\n",
    "> - 使用**数字索引**（从0开始）进行索引"
   ]
  },
  {
   "cell_type": "markdown",
   "metadata": {},
   "source": [
    "### 筛选数据"
   ]
  },
  {
   "cell_type": "code",
   "execution_count": 22,
   "metadata": {},
   "outputs": [
    {
     "data": {
      "text/html": [
       "<div>\n",
       "<style scoped>\n",
       "    .dataframe tbody tr th:only-of-type {\n",
       "        vertical-align: middle;\n",
       "    }\n",
       "\n",
       "    .dataframe tbody tr th {\n",
       "        vertical-align: top;\n",
       "    }\n",
       "\n",
       "    .dataframe thead th {\n",
       "        text-align: right;\n",
       "    }\n",
       "</style>\n",
       "<table border=\"1\" class=\"dataframe\">\n",
       "  <thead>\n",
       "    <tr style=\"text-align: right;\">\n",
       "      <th></th>\n",
       "      <th>姓名</th>\n",
       "      <th>数学</th>\n",
       "      <th>英语</th>\n",
       "      <th>年龄</th>\n",
       "    </tr>\n",
       "  </thead>\n",
       "  <tbody>\n",
       "    <tr>\n",
       "      <th>1</th>\n",
       "      <td>小红</td>\n",
       "      <td>hello</td>\n",
       "      <td>94</td>\n",
       "      <td>17</td>\n",
       "    </tr>\n",
       "  </tbody>\n",
       "</table>\n",
       "</div>"
      ],
      "text/plain": [
       "   姓名     数学  英语  年龄\n",
       "1  小红  hello  94  17"
      ]
     },
     "execution_count": 22,
     "metadata": {},
     "output_type": "execute_result"
    }
   ],
   "source": [
    "# 🎯 筛选数学成绩大于90的学生\n",
    "# df[df['数学'] > 90] #会有typeerror 因为数学里面的元素类型不统一\n",
    "df[df['英语'] > 90]"
   ]
  },
  {
   "cell_type": "code",
   "execution_count": 30,
   "metadata": {},
   "outputs": [
    {
     "data": {
      "text/html": [
       "<div>\n",
       "<style scoped>\n",
       "    .dataframe tbody tr th:only-of-type {\n",
       "        vertical-align: middle;\n",
       "    }\n",
       "\n",
       "    .dataframe tbody tr th {\n",
       "        vertical-align: top;\n",
       "    }\n",
       "\n",
       "    .dataframe thead th {\n",
       "        text-align: right;\n",
       "    }\n",
       "</style>\n",
       "<table border=\"1\" class=\"dataframe\">\n",
       "  <thead>\n",
       "    <tr style=\"text-align: right;\">\n",
       "      <th></th>\n",
       "      <th>姓名</th>\n",
       "      <th>数学</th>\n",
       "      <th>英语</th>\n",
       "      <th>年龄</th>\n",
       "    </tr>\n",
       "  </thead>\n",
       "  <tbody>\n",
       "    <tr>\n",
       "      <th>1</th>\n",
       "      <td>小红</td>\n",
       "      <td>hello</td>\n",
       "      <td>94</td>\n",
       "      <td>17</td>\n",
       "    </tr>\n",
       "    <tr>\n",
       "      <th>3</th>\n",
       "      <td>小张</td>\n",
       "      <td>78</td>\n",
       "      <td>90</td>\n",
       "      <td>17</td>\n",
       "    </tr>\n",
       "    <tr>\n",
       "      <th>0</th>\n",
       "      <td>小明</td>\n",
       "      <td>95</td>\n",
       "      <td>88</td>\n",
       "      <td>18</td>\n",
       "    </tr>\n",
       "    <tr>\n",
       "      <th>2</th>\n",
       "      <td>小李</td>\n",
       "      <td>92</td>\n",
       "      <td>85</td>\n",
       "      <td>18</td>\n",
       "    </tr>\n",
       "  </tbody>\n",
       "</table>\n",
       "</div>"
      ],
      "text/plain": [
       "   姓名     数学  英语  年龄\n",
       "1  小红  hello  94  17\n",
       "3  小张     78  90  17\n",
       "0  小明     95  88  18\n",
       "2  小李     92  85  18"
      ]
     },
     "execution_count": 30,
     "metadata": {},
     "output_type": "execute_result"
    }
   ],
   "source": [
    "# 🎯 按数学成绩排序\n",
    "df.sort_values('英语', ascending=False) #同理 如果是数学的话会有type error"
   ]
  },
  {
   "cell_type": "code",
   "execution_count": 32,
   "metadata": {},
   "outputs": [
    {
     "data": {
      "text/plain": [
       "年龄\n",
       "17    92.0\n",
       "18    86.5\n",
       "Name: 英语, dtype: float64"
      ]
     },
     "execution_count": 32,
     "metadata": {},
     "output_type": "execute_result"
    }
   ],
   "source": [
    "# 🎯 按年龄分组，计算平均数学成绩\n",
    "# Ken: 这个我记不住😓\n",
    "# Sarah: 我全都记不住😓\n",
    "df.groupby('年龄')['英语'].mean()"
   ]
  },
  {
   "cell_type": "markdown",
   "metadata": {},
   "source": [
    "### 修改数据"
   ]
  },
  {
   "cell_type": "code",
   "execution_count": null,
   "metadata": {},
   "outputs": [],
   "source": [
    "# 添加总分列\n",
    "df['总分'] = df['数学'] + df['英语']\n",
    "df"
   ]
  },
  {
   "cell_type": "markdown",
   "metadata": {},
   "source": [
    "今天的内容对我而言有点枯燥无趣，而且我也是一边学一边写的。我现在也有点觉得这个Python “太不可预测了”，让我感到有点不舒服。\n",
    "\n",
    "明天我们学习一些csv文件读写之类的，加上实际的例子，会稍微有趣一点点。\n",
    "\n",
    "加油Sarah！"
   ]
  }
 ],
 "metadata": {
  "kernelspec": {
   "display_name": "Python 3",
   "language": "python",
   "name": "python3"
  },
  "language_info": {
   "codemirror_mode": {
    "name": "ipython",
    "version": 3
   },
   "file_extension": ".py",
   "mimetype": "text/x-python",
   "name": "python",
   "nbconvert_exporter": "python",
   "pygments_lexer": "ipython3",
   "version": "3.13.3"
  }
 },
 "nbformat": 4,
 "nbformat_minor": 2
}
