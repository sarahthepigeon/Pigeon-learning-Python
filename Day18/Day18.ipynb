{
 "cells": [
  {
   "cell_type": "markdown",
   "metadata": {},
   "source": [
    "### Day18: csv 和 json 文件读写\n",
    "\n",
    "你好Sarah。这一篇作业是7月2号中午12点写的。\n",
    "\n",
    "今天学习内容正如标题。\n",
    "\n",
    "首先，什么是csv文件？csv stands for \"comma separaded values\"，格式简单，一个文件既是一个表格，也可以说是一个dataframe。\n",
    "\n",
    "一般csv文件第一行是“表头”，接下来的每一行都是数据，用逗号隔开。举个例子："
   ]
  },
  {
   "cell_type": "code",
   "execution_count": 26,
   "metadata": {},
   "outputs": [],
   "source": [
    "csv_content = \"\"\"name,age,DoB,favorite\n",
    "Sarah,20,3.17,Pigeon\n",
    "Ken,20,1.27,Sarah\n",
    "\"\"\"\n",
    "\n",
    "with open(\"csv_content.csv\", \"w\") as f:\n",
    "    f.write(csv_content)"
   ]
  },
  {
   "cell_type": "code",
   "execution_count": 27,
   "metadata": {},
   "outputs": [],
   "source": [
    "# 接下来可以查看csv_content.csv文件，里面有我们写入的内容。\n",
    "# 可以用pandas把它读取出来\n",
    "\n",
    "import pandas as pd\n",
    "\n",
    "df = pd.read_csv(\"csv_content.csv\")"
   ]
  },
  {
   "cell_type": "code",
   "execution_count": 28,
   "metadata": {},
   "outputs": [],
   "source": [
    "# 你可以在这个单元格里试试 interact with df\n",
    "# 它是一个dataframe，所以我们昨天学的那些方法都可以用\n"
   ]
  },
  {
   "cell_type": "code",
   "execution_count": 29,
   "metadata": {},
   "outputs": [],
   "source": [
    "# 你也可以将一个dataframe保存为一个csv文件\n",
    "\n",
    "df = pd.DataFrame({\n",
    "    \"name\": [\"Sarah\", \"Ken\"],\n",
    "    \"age\": [20, 20],\n",
    "    \"DoB\": [3.17, 1.27],\n",
    "    \"favorite\": [\"Pigeon\", \"Sarah\"]\n",
    "})\n",
    "\n",
    "df.to_csv(\"csv_content_1.csv\", index=False)\n",
    "\n",
    "# 接下来可以查看df.csv文件，里面有我们写入的内容。"
   ]
  },
  {
   "cell_type": "markdown",
   "metadata": {},
   "source": [
    "### Json 文件的读写\n",
    "\n",
    "Json stands for \"JavaScript Object Notation\"，是一种轻量级的数据交换格式。虽然名字里有JavaScript，但它实际上是语言无关的，几乎所有编程语言都支持JSON。\n",
    "\n",
    "JSON的格式很像Python的字典，用大括号{}包围，键值对用冒号:分隔，多个键值对用逗号,分隔。"
   ]
  },
  {
   "cell_type": "code",
   "execution_count": 30,
   "metadata": {},
   "outputs": [],
   "source": [
    "json_content = \"\"\"{\n",
    "    \"name\": \"Sarah\",\n",
    "    \"age\": 20,\n",
    "    \"hobbies\": [\"reading\", \"coding\", \"music\"],\n",
    "    \"is_student\": true\n",
    "}\n",
    "\"\"\"\n",
    "\n",
    "with open(\"json_content.json\", \"w\") as f:\n",
    "    f.write(json_content)\n",
    "\n",
    "# 接下来可以查看json_content.json文件，里面有我们写入的内容。"
   ]
  },
  {
   "cell_type": "code",
   "execution_count": 31,
   "metadata": {},
   "outputs": [],
   "source": [
    "# 读取json文件的话可以用json库\n",
    "\n",
    "import json\n",
    "\n",
    "content = json.loads(json_content)"
   ]
  },
  {
   "cell_type": "code",
   "execution_count": 32,
   "metadata": {},
   "outputs": [],
   "source": [
    "# 这个content是一个字典，所以我们可以用字典的方法来操作它。你可以在这里试试\n"
   ]
  },
  {
   "cell_type": "code",
   "execution_count": 33,
   "metadata": {},
   "outputs": [],
   "source": [
    "# 我们也可以把一个字典保存成一个json文件，用json.dump()\n",
    "\n",
    "content = {\n",
    "    \"name\": \"Sarah\",\n",
    "    \"age\": 20,\n",
    "    \"hobbies\": [\"reading\", \"coding\", \"music\"],\n",
    "    \"is_student\": True\n",
    "}\n",
    "\n",
    "with open(\"json_content_1.json\", \"w\") as f:\n",
    "    json.dump(content, f)\n",
    "\n",
    "# 接下来可以查看content.json文件，里面有我们写入的内容。"
   ]
  },
  {
   "cell_type": "markdown",
   "metadata": {},
   "source": [
    "### 注意事项\n",
    "\n",
    "这个csv和json都是会主动判断数据类型的。比如说你可以试试 `df['age']` 好像是会主动转换成float64类型，尽管我们是以纯文本形式保存的。\n",
    "\n",
    "再者这个json文件也是可以自动识别字符串、整型、浮点型、列表、字典、布尔型等，非常的智能。总之你就不要想太多是怎么实现的，会用就行了哈哈哈\n",
    "\n",
    "哦不，不会用也没关系，对这个东西有印象就行了，需要用的时候问一下chatgpt，chatgpt就会帮你写出来"
   ]
  },
  {
   "cell_type": "markdown",
   "metadata": {},
   "source": [
    "### 更多\n",
    "\n",
    "还有，其实我不太清楚 json.dump 和 json.dumps 的区别。你能教教我吗🥺"
   ]
  },
  {
   "cell_type": "markdown",
   "metadata": {},
   "source": [
    "今天就这么多吧，有点少哈哈哈……我该去画PCB了\n",
    "\n",
    "加油Sarah！"
   ]
  }
 ],
 "metadata": {
  "kernelspec": {
   "display_name": "Python 3",
   "language": "python",
   "name": "python3"
  },
  "language_info": {
   "codemirror_mode": {
    "name": "ipython",
    "version": 3
   },
   "file_extension": ".py",
   "mimetype": "text/x-python",
   "name": "python",
   "nbconvert_exporter": "python",
   "pygments_lexer": "ipython3",
   "version": "3.13.0"
  }
 },
 "nbformat": 4,
 "nbformat_minor": 2
}
