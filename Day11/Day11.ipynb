{
 "cells": [
  {
   "cell_type": "markdown",
   "id": "bf11cf27",
   "metadata": {},
   "source": [
    "### 类、对象，和一点魔法方法\n",
    "\n",
    "你好Sarah！今天让我们来学习类和对象。所谓Python之中万物皆对象，~~而你是我的对象~~。\n",
    "\n",
    "让我们来通过一个类的例子来学习一下。"
   ]
  },
  {
   "cell_type": "code",
   "execution_count": 11,
   "id": "576495aa",
   "metadata": {},
   "outputs": [],
   "source": [
    "class UofT_Student:\n",
    "    def __init__(self, name, student_id):\n",
    "        # This is the constructor\n",
    "        self.name = name\n",
    "        self.student_id = student_id\n",
    "        self.courses = []\n",
    "\n",
    "    def add_course(self, course):\n",
    "        if len(self.courses) >= 5:\n",
    "            raise ValueError(f\"{self.name} 要崩不住了，牛马都没有这么累\")\n",
    "        self.courses.append(course)\n",
    "\n",
    "    def get_courses(self):\n",
    "        return self.courses"
   ]
  },
  {
   "cell_type": "code",
   "execution_count": 12,
   "id": "d36631b8",
   "metadata": {},
   "outputs": [
    {
     "name": "stdout",
     "output_type": "stream",
     "text": [
      "['APS105', 'ECE244', 'ECE231', 'ECE290', 'ECE295']\n"
     ]
    }
   ],
   "source": [
    "Sarah = UofT_Student(\"Sarah\", \"123456789\")\n",
    "Sarah.add_course(\"APS105\")\n",
    "Sarah.add_course(\"ECE244\")\n",
    "Sarah.add_course(\"ECE231\")\n",
    "Sarah.add_course(\"ECE290\")\n",
    "Sarah.add_course(\"ECE295\")\n",
    "print(Sarah.get_courses())"
   ]
  },
  {
   "cell_type": "code",
   "execution_count": 13,
   "id": "7337521d",
   "metadata": {},
   "outputs": [
    {
     "ename": "ValueError",
     "evalue": "Sarah 要崩不住了，牛马都没有这么累",
     "output_type": "error",
     "traceback": [
      "\u001b[1;31m---------------------------------------------------------------------------\u001b[0m",
      "\u001b[1;31mValueError\u001b[0m                                Traceback (most recent call last)",
      "Cell \u001b[1;32mIn[13], line 1\u001b[0m\n\u001b[1;32m----> 1\u001b[0m \u001b[43mSarah\u001b[49m\u001b[38;5;241;43m.\u001b[39;49m\u001b[43madd_course\u001b[49m\u001b[43m(\u001b[49m\u001b[38;5;124;43m\"\u001b[39;49m\u001b[38;5;124;43mECE297\u001b[39;49m\u001b[38;5;124;43m\"\u001b[39;49m\u001b[43m)\u001b[49m  \u001b[38;5;66;03m# This will raise an exception\u001b[39;00m\n",
      "Cell \u001b[1;32mIn[11], line 10\u001b[0m, in \u001b[0;36mUofT_Student.add_course\u001b[1;34m(self, course)\u001b[0m\n\u001b[0;32m      8\u001b[0m \u001b[38;5;28;01mdef\u001b[39;00m \u001b[38;5;21madd_course\u001b[39m(\u001b[38;5;28mself\u001b[39m, course):\n\u001b[0;32m      9\u001b[0m     \u001b[38;5;28;01mif\u001b[39;00m \u001b[38;5;28mlen\u001b[39m(\u001b[38;5;28mself\u001b[39m\u001b[38;5;241m.\u001b[39mcourses) \u001b[38;5;241m>\u001b[39m\u001b[38;5;241m=\u001b[39m \u001b[38;5;241m5\u001b[39m:\n\u001b[1;32m---> 10\u001b[0m         \u001b[38;5;28;01mraise\u001b[39;00m \u001b[38;5;167;01mValueError\u001b[39;00m(\u001b[38;5;124mf\u001b[39m\u001b[38;5;124m\"\u001b[39m\u001b[38;5;132;01m{\u001b[39;00m\u001b[38;5;28mself\u001b[39m\u001b[38;5;241m.\u001b[39mname\u001b[38;5;132;01m}\u001b[39;00m\u001b[38;5;124m 要崩不住了，牛马都没有这么累\u001b[39m\u001b[38;5;124m\"\u001b[39m)\n\u001b[0;32m     11\u001b[0m     \u001b[38;5;28mself\u001b[39m\u001b[38;5;241m.\u001b[39mcourses\u001b[38;5;241m.\u001b[39mappend(course)\n",
      "\u001b[1;31mValueError\u001b[0m: Sarah 要崩不住了，牛马都没有这么累"
     ]
    }
   ],
   "source": [
    "Sarah.add_course(\"ECE297\")  # This will raise an exception"
   ]
  },
  {
   "cell_type": "markdown",
   "id": "f645acf4",
   "metadata": {},
   "source": [
    "### 构造器/Constructor\n",
    "\n",
    "在Python中，类的构造器是`__init__`方法。它会在创建对象时被自动调用。让我们来看看一个简单的例子："
   ]
  },
  {
   "cell_type": "code",
   "execution_count": 14,
   "id": "9fcc6050",
   "metadata": {},
   "outputs": [
    {
     "name": "stdout",
     "output_type": "stream",
     "text": [
      "构造器被调用啦\n"
     ]
    }
   ],
   "source": [
    "class UofT_Student:\n",
    "    def __init__(self, name, student_id):\n",
    "        # This is the constructor\n",
    "        print(\"构造器被调用啦\")\n",
    "        self.name = name\n",
    "        self.student_id = student_id\n",
    "        self.courses = []\n",
    "\n",
    "Sarah = UofT_Student(\"Sarah\", \"123456789\")"
   ]
  },
  {
   "cell_type": "markdown",
   "id": "e7202d96",
   "metadata": {},
   "source": [
    "然后你看所有的类函数里面都用一个self参数，这个self参数代表了类的实例本身。它是一个指向当前对象的引用。"
   ]
  },
  {
   "cell_type": "code",
   "execution_count": 15,
   "id": "ffa19b70",
   "metadata": {},
   "outputs": [],
   "source": [
    "class UofT_Student:\n",
    "    def __init__(self, name, student_id):\n",
    "        # This is the constructor\n",
    "        print(\"构造器被调用啦\")\n",
    "        print(f\"self 是 {self}\")\n",
    "        self.name = name\n",
    "        self.student_id = student_id\n",
    "        self.courses = []"
   ]
  },
  {
   "cell_type": "markdown",
   "id": "c9f65257",
   "metadata": {},
   "source": [
    "默认这些类的属性和方法都是公有的（public），也就是说可以在类的外部访问它们。\n",
    "\n",
    "如果想要让属性或方法变成私有的（private），可以在它们的名字前加上两个下划线`__`。这样就可以避免在类的外部访问这些属性或方法。\n",
    "\n",
    "还有一个约定俗成的规则是，如果一个属性或方法的名字前面加上一个下划线`_`，那么它就被认为是受保护的（protected），这意味着它可以在类的子类中访问，但不应该在类的外部访问。（means 访问是合法的，但不推荐）\n",
    "\n",
    "一般来讲，私有属性和方法是为了类的内部使用而设计的，而受保护的属性和方法则是为了类的继承而设计的。"
   ]
  },
  {
   "cell_type": "code",
   "execution_count": 30,
   "id": "fd72668f",
   "metadata": {},
   "outputs": [
    {
     "name": "stdout",
     "output_type": "stream",
     "text": [
      "A 的构造器被调用啦\n"
     ]
    }
   ],
   "source": [
    "class A:\n",
    "    def __init__(self):\n",
    "        print(\"A 的构造器被调用啦\")\n",
    "        self.x = 1\n",
    "        self._x = 2\n",
    "        self.__x = 3  # 私有变量\n",
    "    \n",
    "    def print_x(self):\n",
    "        print(\"这是一个公共方法\")\n",
    "        print(f\"x = {self.x}, _x = {self._x}, __x = {self.__x}\")\n",
    "    \n",
    "    def _print_x(self):\n",
    "        print(\"这是一个受保护的方法\")\n",
    "    \n",
    "    def __print_x(self):\n",
    "        print(\"这是一个私有方法\")\n",
    "\n",
    "a = A()"
   ]
  },
  {
   "cell_type": "code",
   "execution_count": 31,
   "id": "5127b3dc",
   "metadata": {},
   "outputs": [
    {
     "data": {
      "text/plain": [
       "1"
      ]
     },
     "execution_count": 31,
     "metadata": {},
     "output_type": "execute_result"
    }
   ],
   "source": [
    "a.x"
   ]
  },
  {
   "cell_type": "code",
   "execution_count": 32,
   "id": "a5d77012",
   "metadata": {},
   "outputs": [
    {
     "data": {
      "text/plain": [
       "2"
      ]
     },
     "execution_count": 32,
     "metadata": {},
     "output_type": "execute_result"
    }
   ],
   "source": [
    "a._x"
   ]
  },
  {
   "cell_type": "code",
   "execution_count": 28,
   "id": "d2fa7d0d",
   "metadata": {},
   "outputs": [
    {
     "ename": "AttributeError",
     "evalue": "'A' object has no attribute '__x'",
     "output_type": "error",
     "traceback": [
      "\u001b[1;31m---------------------------------------------------------------------------\u001b[0m",
      "\u001b[1;31mAttributeError\u001b[0m                            Traceback (most recent call last)",
      "Cell \u001b[1;32mIn[28], line 1\u001b[0m\n\u001b[1;32m----> 1\u001b[0m \u001b[43ma\u001b[49m\u001b[38;5;241;43m.\u001b[39;49m\u001b[43m__x\u001b[49m \u001b[38;5;66;03m# 这会报错，因为 __x 是私有变量\u001b[39;00m\n",
      "\u001b[1;31mAttributeError\u001b[0m: 'A' object has no attribute '__x'"
     ]
    }
   ],
   "source": [
    "a.__x # 这会报错，因为 __x 是私有变量"
   ]
  },
  {
   "cell_type": "code",
   "execution_count": 33,
   "id": "6952d14d",
   "metadata": {},
   "outputs": [
    {
     "name": "stdout",
     "output_type": "stream",
     "text": [
      "这是一个公共方法\n",
      "x = 1, _x = 2, __x = 3\n"
     ]
    }
   ],
   "source": [
    "a.print_x()  # 这会正常工作，因为 print_x 是公有方法"
   ]
  },
  {
   "cell_type": "code",
   "execution_count": 34,
   "id": "b631ac7a",
   "metadata": {},
   "outputs": [
    {
     "name": "stdout",
     "output_type": "stream",
     "text": [
      "这是一个受保护的方法\n"
     ]
    }
   ],
   "source": [
    "a._print_x()  # 这会正常工作，因为 _print_x 是受保护的方法"
   ]
  },
  {
   "cell_type": "code",
   "execution_count": 35,
   "id": "578e1277",
   "metadata": {},
   "outputs": [
    {
     "ename": "AttributeError",
     "evalue": "'A' object has no attribute '__print_x'",
     "output_type": "error",
     "traceback": [
      "\u001b[1;31m---------------------------------------------------------------------------\u001b[0m",
      "\u001b[1;31mAttributeError\u001b[0m                            Traceback (most recent call last)",
      "Cell \u001b[1;32mIn[35], line 1\u001b[0m\n\u001b[1;32m----> 1\u001b[0m \u001b[43ma\u001b[49m\u001b[38;5;241;43m.\u001b[39;49m\u001b[43m__print_x\u001b[49m()  \u001b[38;5;66;03m# 这会报错，因为 __print_x 是私有方法\u001b[39;00m\n",
      "\u001b[1;31mAttributeError\u001b[0m: 'A' object has no attribute '__print_x'"
     ]
    }
   ],
   "source": [
    "a.__print_x()  # 这会报错，因为 __print_x 是私有方法"
   ]
  },
  {
   "cell_type": "markdown",
   "id": "be52b4d2",
   "metadata": {},
   "source": [
    "### 魔法方法\n",
    "\n",
    "魔法方法是Python中一些特殊的方法，它们通常以双下划线开头和结尾。它们可以让你自定义类的行为。\n",
    "比如`__init__`是一个魔法方法，它在创建对象时被调用。还有其他一些常用的魔法方法，比如`__str__`，它可以让你自定义对象的字符串表示。\n",
    "\n",
    "除此之外还有一些常用的，比如`__add__`，它可以让你自定义加法操作，`__len__`，它可以让你自定义对象的长度。\n",
    "\n",
    "让我们来看看一个简单的例子："
   ]
  },
  {
   "cell_type": "code",
   "execution_count": 16,
   "id": "8171d749",
   "metadata": {},
   "outputs": [],
   "source": [
    "class UofT_Student:\n",
    "    def __init__(self, name, student_id):\n",
    "        self.name = name\n",
    "        self.student_id = student_id\n",
    "        self.courses = []\n",
    "\n",
    "    def add_course(self, course):\n",
    "        self.courses.append(course)\n",
    "    \n",
    "    def add_courses(self, *courses):\n",
    "        for course in courses:\n",
    "            self.add_course(course)\n",
    "\n",
    "    def get_courses(self):\n",
    "        return self.courses\n",
    "\n",
    "    def __str__(self):\n",
    "        # 在 `str()` 的时候会被调用\n",
    "        # `print()` 会调用 `str()`\n",
    "        return f\"Student Name: {self.name}, ID: {self.student_id}, Courses: {', '.join(self.courses)}\"\n",
    "    \n",
    "    def __len__(self):\n",
    "        # 在 `len()` 的时候被调用\n",
    "        return len(self.courses)\n",
    "    \n",
    "    def __getitem__(self, index):\n",
    "        # 在 `[]` 的时候被调用\n",
    "        return self.courses[index]\n",
    "\n",
    "Sarah = UofT_Student(\"Sarah\", \"123456789\")\n",
    "Sarah.add_courses(\"APS105\", \"ECE244\", \"ECE231\", \"ECE290\", \"ECE295\")"
   ]
  },
  {
   "cell_type": "code",
   "execution_count": 17,
   "id": "054441f0",
   "metadata": {},
   "outputs": [
    {
     "name": "stdout",
     "output_type": "stream",
     "text": [
      "Student Name: Sarah, ID: 123456789, Courses: APS105, ECE244, ECE231, ECE290, ECE295\n"
     ]
    }
   ],
   "source": [
    "print(Sarah)  # 调用 __str__"
   ]
  },
  {
   "cell_type": "code",
   "execution_count": 18,
   "id": "cf807779",
   "metadata": {},
   "outputs": [
    {
     "data": {
      "text/plain": [
       "5"
      ]
     },
     "execution_count": 18,
     "metadata": {},
     "output_type": "execute_result"
    }
   ],
   "source": [
    "len(Sarah)  # 调用 __len__"
   ]
  },
  {
   "cell_type": "code",
   "execution_count": 19,
   "id": "e2f9f9f3",
   "metadata": {},
   "outputs": [
    {
     "data": {
      "text/plain": [
       "'APS105'"
      ]
     },
     "execution_count": 19,
     "metadata": {},
     "output_type": "execute_result"
    }
   ],
   "source": [
    "Sarah[0]  # 调用 __getitem__"
   ]
  },
  {
   "cell_type": "markdown",
   "id": "402a4534",
   "metadata": {},
   "source": [
    "### 自主实践\n",
    "\n",
    "今天给Sarah的习题就是实现一个类吧，让我把这个类运行的示例写下来"
   ]
  },
  {
   "cell_type": "markdown",
   "id": "85a076e2",
   "metadata": {},
   "source": [
    "```Python\n",
    "peter = Pigeon(\"Peter\")\n",
    "peter.eat(\"seeds\")\n",
    "peter.eat(\"bread\")\n",
    "peter.eat(\"fruits\")\n",
    "peter.eat(\"vegetables\")\n",
    "peter.eat(\"nuts\")\n",
    "peter.eat(\"chips\")  # 这会提示已经吃饱了\n",
    "mary = Pigeon(\"Jen\")\n",
    "print(peter + mary)  # 使用 __add__\n",
    "print(mary + [peter])  # 使用 __radd__\n",
    "print([peter] + [mary])  # 使用 __add__，因为列表的 __add__ 方法会调用 Pigeon 的 __add__ 方法\n",
    "```\n",
    "```bash\n",
    "Peter is eating seeds\n",
    "Peter is eating bread\n",
    "Peter is eating fruits\n",
    "Peter is eating vegetables\n",
    "Peter is eating nuts\n",
    "Peter 已经吃饱了，不能再吃了\n",
    "[Pigeon: Peter, Pigeon: Jen]\n",
    "[Pigeon: Jen, Pigeon: Peter]\n",
    "[Pigeon: Peter, Pigeon: Jen]\n",
    "```"
   ]
  },
  {
   "cell_type": "code",
   "execution_count": 21,
   "id": "684c0d03-c5fd-436c-9f8e-9fe33f5113ec",
   "metadata": {},
   "outputs": [
    {
     "name": "stdout",
     "output_type": "stream",
     "text": [
      "Peter is eating seeds\n",
      "Peter is eating bread\n",
      "Peter is eating fruits\n",
      "Peter is eating vegetables\n",
      "Peter is eating nuts\n",
      "Peter 已经吃饱了，不能再吃了\n"
     ]
    },
    {
     "ename": "NameError",
     "evalue": "name 'instance' is not defined",
     "output_type": "error",
     "traceback": [
      "\u001b[31m------------------------------------------------------------------------\u001b[39m",
      "\u001b[31mNameError\u001b[39m                              Traceback (most recent call last)",
      "\u001b[36mCell\u001b[39m\u001b[36m \u001b[39m\u001b[32mIn[21]\u001b[39m\u001b[32m, line 38\u001b[39m\n\u001b[32m     36\u001b[39m peter.eat(\u001b[33m\"\u001b[39m\u001b[33mchips\u001b[39m\u001b[33m\"\u001b[39m)  \u001b[38;5;66;03m# 这会提示已经吃饱了\u001b[39;00m\n\u001b[32m     37\u001b[39m mary = Pigeon(\u001b[33m\"\u001b[39m\u001b[33mJen\u001b[39m\u001b[33m\"\u001b[39m)\n\u001b[32m---> \u001b[39m\u001b[32m38\u001b[39m \u001b[38;5;28mprint\u001b[39m(\u001b[43mpeter\u001b[49m\u001b[43m \u001b[49m\u001b[43m+\u001b[49m\u001b[43m \u001b[49m\u001b[43mmary\u001b[49m)  \u001b[38;5;66;03m# 使用 __add__\u001b[39;00m\n\u001b[32m     39\u001b[39m \u001b[38;5;28mprint\u001b[39m(mary + [peter])  \u001b[38;5;66;03m# 使用 __radd__\u001b[39;00m\n\u001b[32m     40\u001b[39m \u001b[38;5;28mprint\u001b[39m([peter] + [mary])  \u001b[38;5;66;03m# 使用 __add__，因为列表的 __add__ 方法会调用 Pigeon 的 __add__ 方法\u001b[39;00m\n",
      "\u001b[36mCell\u001b[39m\u001b[36m \u001b[39m\u001b[32mIn[21]\u001b[39m\u001b[32m, line 21\u001b[39m, in \u001b[36mPigeon.__add__\u001b[39m\u001b[34m(self, other)\u001b[39m\n\u001b[32m     20\u001b[39m \u001b[38;5;28;01mdef\u001b[39;00m\u001b[38;5;250m \u001b[39m\u001b[34m__add__\u001b[39m(\u001b[38;5;28mself\u001b[39m, other):\n\u001b[32m---> \u001b[39m\u001b[32m21\u001b[39m     \u001b[38;5;28;01mif\u001b[39;00m \u001b[43minstance\u001b[49m(other, Pigeon):\n\u001b[32m     22\u001b[39m         \u001b[38;5;28;01mreturn\u001b[39;00m [\u001b[38;5;28mself\u001b[39m, other]\n\u001b[32m     23\u001b[39m     \u001b[38;5;28;01melse\u001b[39;00m:\n",
      "\u001b[31mNameError\u001b[39m: name 'instance' is not defined"
     ]
    }
   ],
   "source": [
    "class Pigeon:\n",
    "    def __init__(self, name):\n",
    "        self.name = name\n",
    "        self.food = []\n",
    "        \n",
    "    def eat(self, Food):\n",
    "        if len(self.food) >= 5:\n",
    "            print(f\"{self.name} 已经吃饱了，不能再吃了\")\n",
    "        else:\n",
    "            self.food.append(Food)\n",
    "            print(f\"{self.name} is eating {Food}\")\n",
    "        return \n",
    "        \n",
    "    def __str__(self):\n",
    "        return f\"Pigeon: {self.name}\"\n",
    "        \n",
    "    def __repr__(self):\n",
    "        return str(self)\n",
    "        \n",
    "    def __add__(self, other):\n",
    "        if instance(other, Pigeon):\n",
    "            return [self, other]\n",
    "        else:\n",
    "            raise NotImplementedError(\"不支持的操作类型\")\n",
    "        \n",
    "    def __radd__(self, other):\n",
    "        return \n",
    "        \n",
    "\n",
    "peter = Pigeon(\"Peter\")\n",
    "peter.eat(\"seeds\")\n",
    "peter.eat(\"bread\")\n",
    "peter.eat(\"fruits\")\n",
    "peter.eat(\"vegetables\")\n",
    "peter.eat(\"nuts\")\n",
    "peter.eat(\"chips\")  # 这会提示已经吃饱了\n",
    "mary = Pigeon(\"Jen\")\n",
    "print(peter + mary)  # 使用 __add__\n",
    "print(mary + [peter])  # 使用 __radd__\n",
    "print([peter] + [mary])  # 使用 __add__，因为列表的 __add__ 方法会调用 Pigeon 的 __add__ 方法\n",
    "\n",
    "    "
   ]
  },
  {
   "cell_type": "code",
   "execution_count": 16,
   "id": "89fcc0f7-004b-4eea-a1f9-f809975cbcff",
   "metadata": {},
   "outputs": [
    {
     "name": "stdout",
     "output_type": "stream",
     "text": [
      "Peter is eating seeds\n",
      "Peter is eating bread\n",
      "Peter is eating fruits\n",
      "Peter is eating vegetables\n",
      "Peter is eating nuts\n",
      "Peter 已经吃饱了，不能再吃了\n",
      "add\n",
      "[Pigeon: Peter, Pigeon: Jen]\n",
      "add\n",
      "[Pigeon: Jen, Pigeon: Peter]\n",
      "[Pigeon: Peter, Pigeon: Jen]\n"
     ]
    }
   ],
   "source": [
    "class Pigeon: \n",
    "    def __init__(self, name): \n",
    "        self.name = name \n",
    "        self.eaten_food = []\n",
    "    def __str__(self):\n",
    "        return f\"Pigeon: {self.name}\"\n",
    "\n",
    "    def __repr__(self):\n",
    "        return str(self)\n",
    "    \n",
    "    def eat(self, food):\n",
    "        if len(self.eaten_food) >= 5:\n",
    "            print(f\"{self.name} 已经吃饱了，不能再吃了\")\n",
    "            return\n",
    "        print(f\"{self.name} is eating {food}\")\n",
    "        self.eaten_food.append(food)\n",
    "    \n",
    "    def __add__(self, other):\n",
    "        print(\"add\")\n",
    "        if isinstance(other, Pigeon):\n",
    "            return [self, other]\n",
    "        elif isinstance(other, list):\n",
    "            return [self] + other\n",
    "        else:\n",
    "            raise NotImplementedError(\"不支持的操作类型\")\n",
    "    \n",
    "    # def __radd__(self, other):\n",
    "    #     if isinstance(other, list):\n",
    "    #         print(\"radd\")\n",
    "    #         return [self] + other\n",
    "    #     else:\n",
    "    #         raise NotImplementedError(\"不支持的操作类型\")\n",
    "\n",
    "peter = Pigeon(\"Peter\")\n",
    "peter.eat(\"seeds\")\n",
    "peter.eat(\"bread\")\n",
    "peter.eat(\"fruits\")\n",
    "peter.eat(\"vegetables\")\n",
    "peter.eat(\"nuts\")\n",
    "peter.eat(\"chips\")  # 这会提示已经吃饱了\n",
    "mary = Pigeon(\"Jen\")\n",
    "print(peter + mary)  # 使用 __add__\n",
    "print(mary + [peter])  # 使用 __radd__\n",
    "print([peter] + [mary])  # 使用 __add__，因为列表的 __add__ 方法会调用 Pigeon 的 __add__ 方法"
   ]
  },
  {
   "cell_type": "markdown",
   "id": "a4edc911",
   "metadata": {},
   "source": [
    "### Maybe 参考答案（如下）\n",
    "\n",
    "<span style=\"filter: blur(5px);\">\n",
    "```Python\n",
    "class Pigeon:\n",
    "    def __init__(self, name):\n",
    "        self.name = name\n",
    "        self.eaten_food = []\n",
    "\n",
    "    def __str__(self):\n",
    "        return f\"Pigeon: {self.name}\"\n",
    "    \n",
    "    def __repr__(self):\n",
    "        return str(self)\n",
    "    \n",
    "    def eat(self, food):\n",
    "        if len(self.eaten_food) >= 5:\n",
    "            print(f\"{self.name} 已经吃饱了，不能再吃了\")\n",
    "            return\n",
    "        print(f\"{self.name} is eating {food}\")\n",
    "        self.eaten_food.append(food)\n",
    "    \n",
    "    def __add__(self, other):\n",
    "        if isinstance(other, Pigeon):\n",
    "            return [self, other]\n",
    "        elif isinstance(other, list):\n",
    "            return [self] + other\n",
    "        else:\n",
    "            raise NotImplementedError(\"不支持的操作类型\")\n",
    "\n",
    "    def __radd__(self, other):\n",
    "        if isinstance(other, list):\n",
    "            return [self] + other\n",
    "        else:\n",
    "            raise NotImplementedError(\"不支持的操作类型\")\n",
    "```\n",
    "</span>"
   ]
  },
  {
   "cell_type": "markdown",
   "id": "9529c459",
   "metadata": {},
   "source": [
    "今天好像准备得有点仓促……但是加油Sarah！今天要学的东西真是不少，希望你能好好消化一下。\n",
    "\n",
    "如果有不懂的地方，随时问我！😝🌟"
   ]
  }
 ],
 "metadata": {
  "kernelspec": {
   "display_name": "Python 3 (ipykernel)",
   "language": "python",
   "name": "python3"
  },
  "language_info": {
   "codemirror_mode": {
    "name": "ipython",
    "version": 3
   },
   "file_extension": ".py",
   "mimetype": "text/x-python",
   "name": "python",
   "nbconvert_exporter": "python",
   "pygments_lexer": "ipython3",
   "version": "3.13.3"
  }
 },
 "nbformat": 4,
 "nbformat_minor": 5
}
