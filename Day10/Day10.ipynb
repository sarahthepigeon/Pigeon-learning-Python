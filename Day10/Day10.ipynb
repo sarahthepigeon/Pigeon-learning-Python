{
 "cells": [
  {
   "cell_type": "markdown",
   "id": "f18f206516d9af97",
   "metadata": {},
   "source": [
    "你好Sarah！从今天开始我们就用jupyter notebook来学习Python吧！我就用它来写笔记和练习题目，你来补全一些必要的东西，这样就能高效地学习了。也就是说你不用创建新的文件，直接在这里写就好了。"
   ]
  },
  {
   "cell_type": "markdown",
   "id": "30339b9337977e0",
   "metadata": {},
   "source": [
    "经过思考，今天就让我们来做一些查缺补漏吧。明天预计学习魔法方法？不知道what do you think。\n",
    "\n",
    "我可能就把我认为容易记不住的一些细节的知识点列出来，然后你来补充，怎么样？"
   ]
  },
  {
   "cell_type": "markdown",
   "id": "14191c03291137c3",
   "metadata": {},
   "source": [
    "### 原始字符串\n",
    "关于r\"...\": r开头的字符串不会对\\进行翻译\n",
    "\n",
    "关于rf\"...\": 原始字符串（r）+ 格式化字符串（f）"
   ]
  },
  {
   "cell_type": "code",
   "execution_count": 6,
   "id": "6391d4f4-0f77-41ee-b9a9-d48e0008ea44",
   "metadata": {},
   "outputs": [
    {
     "name": "stdout",
     "output_type": "stream",
     "text": [
      "Sarah loves pigeon \\n\\n\n"
     ]
    },
    {
     "name": "stdin",
     "output_type": "stream",
     "text": [
      "enter name: Hello\n"
     ]
    },
    {
     "name": "stdout",
     "output_type": "stream",
     "text": [
      "Hello loves pigeon \\n\\n\n"
     ]
    }
   ],
   "source": [
    "# r\" \" \n",
    "String_r = r\"Sarah loves pigeon \\n\\n\"\n",
    "print(String_r)\n",
    "# rf\" \"\n",
    "name = input(\"enter name:\")\n",
    "String_rf = rf\"{name} loves pigeon \\n\\n\"\n",
    "print(String_rf)"
   ]
  },
  {
   "cell_type": "markdown",
   "id": "9805ad3f3c9e335a",
   "metadata": {},
   "source": [
    "### 关于各种各样的转义字符、特殊字符\n",
    "关于\\n, \\t, \\\\, \\', \\\", \\r, \\b 分别代表什么，在什么时候被用到？:\n",
    "|转义符| 含义 | comments |\n",
    "|:------:|:-----:|:------:|\n",
    "|\\n|换行|光标会移动到下一行的开头\n",
    "|\\t|tab|-\n",
    "|`\\\\` |打印\\ |-\n",
    "|\\\\'|打印'|-\n",
    "|\\r|回车|光标回到本行行首，但不换行\n",
    "|\\b|退格|删除前一个字符"
   ]
  },
  {
   "cell_type": "markdown",
   "id": "a43eceef52558e43",
   "metadata": {},
   "source": [
    "### 关于断言、assert\n",
    "用来debug和调试：“Python 中内置了 assert 语句，用来在运行时自动检查某个条件是否为 True，如果不是，就抛出异常（AssertionError）。”\n",
    "\n",
    "基本形式：assert 条件表达式, \"可选的错误信息\"\n",
    "\n",
    "例子1：assert x > 0, \"cannot be positive\"\n",
    "\n",
    "例子2：assert isPositive(something), \"blah blah blah\""
   ]
  },
  {
   "cell_type": "code",
   "execution_count": 7,
   "id": "ccc03965-0df0-4ad2-ba2b-ec203a4620c8",
   "metadata": {},
   "outputs": [
    {
     "ename": "AssertionError",
     "evalue": "something went wrong",
     "output_type": "error",
     "traceback": [
      "\u001b[31m---------------------------------------------------------------------------\u001b[39m",
      "\u001b[31mAssertionError\u001b[39m                            Traceback (most recent call last)",
      "\u001b[36mCell\u001b[39m\u001b[36m \u001b[39m\u001b[32mIn[7]\u001b[39m\u001b[32m, line 2\u001b[39m\n\u001b[32m      1\u001b[39m x = \u001b[32m10\u001b[39m\n\u001b[32m----> \u001b[39m\u001b[32m2\u001b[39m \u001b[38;5;28;01massert\u001b[39;00m x < \u001b[32m0\u001b[39m, \u001b[33m\"\u001b[39m\u001b[33msomething went wrong\u001b[39m\u001b[33m\"\u001b[39m\n",
      "\u001b[31mAssertionError\u001b[39m: something went wrong"
     ]
    }
   ],
   "source": [
    "x = 10\n",
    "assert x < 0, \"something went wrong\""
   ]
  },
  {
   "cell_type": "markdown",
   "id": "3ffbd2baf7028374",
   "metadata": {},
   "source": [
    "### 关于循环后面的else\n",
    "for/while ... else: ...\n",
    "\n",
    "循环正常执行完(没有被 break 中断），就会执行else中的内容。如果中间break了，那么不会执行else的内容"
   ]
  },
  {
   "cell_type": "code",
   "execution_count": 5,
   "id": "3b6e0b015caba2cf",
   "metadata": {
    "ExecuteTime": {
     "end_time": "2025-06-17T14:57:27.043617Z",
     "start_time": "2025-06-17T14:57:27.040619Z"
    }
   },
   "outputs": [
    {
     "name": "stdout",
     "output_type": "stream",
     "text": [
      "没有break\n"
     ]
    }
   ],
   "source": [
    "# 例如\n",
    "for i in range(3):\n",
    "    if i == 5:\n",
    "        print(\"找到了5\")\n",
    "        break\n",
    "else:\n",
    "    print(\"没有break\")"
   ]
  },
  {
   "cell_type": "code",
   "execution_count": 9,
   "id": "e62b98d3-6639-407a-86ad-af5285eae619",
   "metadata": {},
   "outputs": [
    {
     "name": "stdout",
     "output_type": "stream",
     "text": [
      "found 5！\n"
     ]
    }
   ],
   "source": [
    "for i in range(10):\n",
    "    if i == 5:\n",
    "        print(\"found 5！\")\n",
    "        break\n",
    "else:\n",
    "    print(\"5 is not found\")"
   ]
  },
  {
   "cell_type": "code",
   "execution_count": 20,
   "id": "4135df07-ff4a-4b6a-ba07-d770e549dbfb",
   "metadata": {},
   "outputs": [
    {
     "name": "stdin",
     "output_type": "stream",
     "text": [
      "enter a number (not 1):  2\n"
     ]
    },
    {
     "name": "stdout",
     "output_type": "stream",
     "text": [
      "2 是质数\n"
     ]
    }
   ],
   "source": [
    "#来自g老师：找质数\n",
    "n = int(input(\"enter a number (not 1): \"))\n",
    "for i in range(2, n):\n",
    "    if n % i == 0:\n",
    "        print(f\"{n} 不是质数\")\n",
    "        break\n",
    "else:\n",
    "    print(f\"{n} 是质数\")"
   ]
  },
  {
   "cell_type": "markdown",
   "id": "71111df9d7cf9758",
   "metadata": {},
   "source": [
    "### 关于BIFs（Built-in Functions）\n",
    "个人感觉这个东西就像是#include了一些东西，然后using namespace std;一样，直接可以用的函数。比如print()、len()、type()、int()、str()等等。"
   ]
  },
  {
   "cell_type": "code",
   "execution_count": 10,
   "id": "78463c8a52f45965",
   "metadata": {
    "scrolled": true
   },
   "outputs": [
    {
     "data": {
      "text/plain": [
       "['ArithmeticError',\n",
       " 'AssertionError',\n",
       " 'AttributeError',\n",
       " 'BaseException',\n",
       " 'BaseExceptionGroup',\n",
       " 'BlockingIOError',\n",
       " 'BrokenPipeError',\n",
       " 'BufferError',\n",
       " 'BytesWarning',\n",
       " 'ChildProcessError',\n",
       " 'ConnectionAbortedError',\n",
       " 'ConnectionError',\n",
       " 'ConnectionRefusedError',\n",
       " 'ConnectionResetError',\n",
       " 'DeprecationWarning',\n",
       " 'EOFError',\n",
       " 'Ellipsis',\n",
       " 'EncodingWarning',\n",
       " 'EnvironmentError',\n",
       " 'Exception',\n",
       " 'ExceptionGroup',\n",
       " 'False',\n",
       " 'FileExistsError',\n",
       " 'FileNotFoundError',\n",
       " 'FloatingPointError',\n",
       " 'FutureWarning',\n",
       " 'GeneratorExit',\n",
       " 'IOError',\n",
       " 'ImportError',\n",
       " 'ImportWarning',\n",
       " 'IndentationError',\n",
       " 'IndexError',\n",
       " 'InterruptedError',\n",
       " 'IsADirectoryError',\n",
       " 'KeyError',\n",
       " 'KeyboardInterrupt',\n",
       " 'LookupError',\n",
       " 'MemoryError',\n",
       " 'ModuleNotFoundError',\n",
       " 'NameError',\n",
       " 'None',\n",
       " 'NotADirectoryError',\n",
       " 'NotImplemented',\n",
       " 'NotImplementedError',\n",
       " 'OSError',\n",
       " 'OverflowError',\n",
       " 'PendingDeprecationWarning',\n",
       " 'PermissionError',\n",
       " 'ProcessLookupError',\n",
       " 'PythonFinalizationError',\n",
       " 'RecursionError',\n",
       " 'ReferenceError',\n",
       " 'ResourceWarning',\n",
       " 'RuntimeError',\n",
       " 'RuntimeWarning',\n",
       " 'StopAsyncIteration',\n",
       " 'StopIteration',\n",
       " 'SyntaxError',\n",
       " 'SyntaxWarning',\n",
       " 'SystemError',\n",
       " 'SystemExit',\n",
       " 'TabError',\n",
       " 'TimeoutError',\n",
       " 'True',\n",
       " 'TypeError',\n",
       " 'UnboundLocalError',\n",
       " 'UnicodeDecodeError',\n",
       " 'UnicodeEncodeError',\n",
       " 'UnicodeError',\n",
       " 'UnicodeTranslateError',\n",
       " 'UnicodeWarning',\n",
       " 'UserWarning',\n",
       " 'ValueError',\n",
       " 'Warning',\n",
       " 'WindowsError',\n",
       " 'ZeroDivisionError',\n",
       " '_IncompleteInputError',\n",
       " '__IPYTHON__',\n",
       " '__build_class__',\n",
       " '__debug__',\n",
       " '__doc__',\n",
       " '__import__',\n",
       " '__loader__',\n",
       " '__name__',\n",
       " '__package__',\n",
       " '__spec__',\n",
       " 'abs',\n",
       " 'aiter',\n",
       " 'all',\n",
       " 'anext',\n",
       " 'any',\n",
       " 'ascii',\n",
       " 'bin',\n",
       " 'bool',\n",
       " 'breakpoint',\n",
       " 'bytearray',\n",
       " 'bytes',\n",
       " 'callable',\n",
       " 'chr',\n",
       " 'classmethod',\n",
       " 'compile',\n",
       " 'complex',\n",
       " 'copyright',\n",
       " 'credits',\n",
       " 'delattr',\n",
       " 'dict',\n",
       " 'dir',\n",
       " 'display',\n",
       " 'divmod',\n",
       " 'enumerate',\n",
       " 'eval',\n",
       " 'exec',\n",
       " 'execfile',\n",
       " 'filter',\n",
       " 'float',\n",
       " 'format',\n",
       " 'frozenset',\n",
       " 'get_ipython',\n",
       " 'getattr',\n",
       " 'globals',\n",
       " 'hasattr',\n",
       " 'hash',\n",
       " 'help',\n",
       " 'hex',\n",
       " 'id',\n",
       " 'input',\n",
       " 'int',\n",
       " 'isinstance',\n",
       " 'issubclass',\n",
       " 'iter',\n",
       " 'len',\n",
       " 'license',\n",
       " 'list',\n",
       " 'locals',\n",
       " 'map',\n",
       " 'max',\n",
       " 'memoryview',\n",
       " 'min',\n",
       " 'next',\n",
       " 'object',\n",
       " 'oct',\n",
       " 'open',\n",
       " 'ord',\n",
       " 'pow',\n",
       " 'print',\n",
       " 'property',\n",
       " 'range',\n",
       " 'repr',\n",
       " 'reversed',\n",
       " 'round',\n",
       " 'runfile',\n",
       " 'set',\n",
       " 'setattr',\n",
       " 'slice',\n",
       " 'sorted',\n",
       " 'staticmethod',\n",
       " 'str',\n",
       " 'sum',\n",
       " 'super',\n",
       " 'tuple',\n",
       " 'type',\n",
       " 'vars',\n",
       " 'zip']"
      ]
     },
     "execution_count": 10,
     "metadata": {},
     "output_type": "execute_result"
    }
   ],
   "source": [
    "dir(__builtins__)"
   ]
  },
  {
   "cell_type": "markdown",
   "id": "cc0c2d198de09e56",
   "metadata": {},
   "source": [
    "今天让我们查缺补漏，你来总结一下上面的一些你还不知道的知识点吧。\n",
    "\n",
    "一个useful link：https://docs.python.org/3/library/functions.html\n",
    "\n",
    "请你在下面的代码块中补充你认为有用的知识点，或者你认为需要补充的内容。\n",
    "\n",
    "note：一个知识点写一个代码快就行了，不用记住所有东西，其实有好多东西我自己都不知道哈哈哈\n",
    "\n",
    "加油Sarah！！！"
   ]
  },
  {
   "cell_type": "code",
   "execution_count": 28,
   "id": "2773fde9-3332-421a-adfe-7c4c81d495d5",
   "metadata": {},
   "outputs": [
    {
     "name": "stdout",
     "output_type": "stream",
     "text": [
      "False\n",
      "True\n",
      "True\n"
     ]
    }
   ],
   "source": [
    "# any(iterable) --> iterable中任意一个元素是true，any(iterable就会return true\n",
    "L = [0, 0, 0]\n",
    "result = any(L)\n",
    "print(result)\n",
    "\n",
    "a = 0\n",
    "b = 2\n",
    "c = None\n",
    "result = any([a > 0, b < 0, c is None])\n",
    "print(result)\n",
    "\n",
    "# 判断一个字符串中是否含有数字\n",
    "s = \"abc5xyz\"\n",
    "has_digit = any(c.isdigit() for c in s)  # 生成器表达式\n",
    "print(has_digit)  # True\n",
    "\n",
    "# all(iterable)也基本上是一个道理。区别是iterable中所有一个元素都是true，all(iterable)才会return true"
   ]
  },
  {
   "cell_type": "markdown",
   "id": "2815eb72-22ef-4d27-9e0b-ea88feb73d89",
   "metadata": {},
   "source": [
    "### 生成器表达式 generator expression\n",
    "\n",
    "可以在不创建完整列表的情况下进行迭代，所以也算是iterable\n",
    "\n",
    "c.isdigit() for c in s： 遍历字符串s中的每个字符c，并对每个c应用 c.isdigit()（判断是否为数字），生成一个布尔值序列，但不立即展开为列表。\n",
    "\n",
    "比如："
   ]
  },
  {
   "cell_type": "code",
   "execution_count": 30,
   "id": "8e72a6ae-655a-4d7f-a5a0-b4cca68c348a",
   "metadata": {},
   "outputs": [
    {
     "name": "stdout",
     "output_type": "stream",
     "text": [
      "True\n"
     ]
    }
   ],
   "source": [
    "s = \"abc5xyz\"\n",
    "has_digit = any(c.isdigit() for c in s)\n",
    "print(has_digit)"
   ]
  }
 ],
 "metadata": {
  "kernelspec": {
   "display_name": "Python 3 (ipykernel)",
   "language": "python",
   "name": "python3"
  },
  "language_info": {
   "codemirror_mode": {
    "name": "ipython",
    "version": 3
   },
   "file_extension": ".py",
   "mimetype": "text/x-python",
   "name": "python",
   "nbconvert_exporter": "python",
   "pygments_lexer": "ipython3",
   "version": "3.13.3"
  }
 },
 "nbformat": 4,
 "nbformat_minor": 5
}
