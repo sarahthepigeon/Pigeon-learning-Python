{
 "cells": [
  {
   "cell_type": "markdown",
   "id": "f18f206516d9af97",
   "metadata": {},
   "source": [
    "你好Sarah！从今天开始我们就用jupyter notebook来学习Python吧！我就用它来写笔记和练习题目，你来补全一些必要的东西，这样就能高效地学习了。也就是说你不用创建新的文件，直接在这里写就好了。"
   ]
  },
  {
   "cell_type": "markdown",
   "id": "30339b9337977e0",
   "metadata": {},
   "source": [
    "经过思考，今天就让我们来做一些查缺补漏吧。明天预计学习魔法方法？不知道what do you think。\n",
    "\n",
    "我可能就把我认为容易记不住的一些细节的知识点列出来，然后你来补充，怎么样？"
   ]
  },
  {
   "cell_type": "markdown",
   "id": "14191c03291137c3",
   "metadata": {},
   "source": [
    "### 原始字符串\n",
    "关于r\"...\"\n",
    "关于rf\"...\""
   ]
  },
  {
   "cell_type": "markdown",
   "id": "9805ad3f3c9e335a",
   "metadata": {},
   "source": [
    "### 关于各种各样的转义字符、特殊字符\n",
    "关于\\n, \\t, \\\\, \\', \\\", \\r, \\b 分别代表什么，在什么时候被用到？"
   ]
  },
  {
   "cell_type": "markdown",
   "id": "a43eceef52558e43",
   "metadata": {},
   "source": [
    "### 关于断言、assert"
   ]
  },
  {
   "cell_type": "markdown",
   "id": "3ffbd2baf7028374",
   "metadata": {},
   "source": [
    "### 关于循环后面的else"
   ]
  },
  {
   "cell_type": "code",
   "execution_count": 5,
   "id": "3b6e0b015caba2cf",
   "metadata": {
    "ExecuteTime": {
     "end_time": "2025-06-17T14:57:27.043617Z",
     "start_time": "2025-06-17T14:57:27.040619Z"
    }
   },
   "outputs": [
    {
     "name": "stdout",
     "output_type": "stream",
     "text": [
      "没有break\n"
     ]
    }
   ],
   "source": [
    "# 例如\n",
    "for i in range(3):\n",
    "    if i == 5:\n",
    "        print(\"找到了5\")\n",
    "        break\n",
    "else:\n",
    "    print(\"没有break\")"
   ]
  },
  {
   "metadata": {},
   "cell_type": "markdown",
   "source": [
    "### 关于BIFs（Built-in Functions）\n",
    "个人感觉这个东西就像是#include了一些东西，然后using namespace std;一样，直接可以用的函数。比如print()、len()、type()、int()、str()等等。"
   ],
   "id": "71111df9d7cf9758"
  },
  {
   "metadata": {},
   "cell_type": "code",
   "outputs": [],
   "execution_count": null,
   "source": "dir(__builtins__)",
   "id": "78463c8a52f45965"
  },
  {
   "metadata": {},
   "cell_type": "markdown",
   "source": [
    "今天让我们查缺补漏，你来总结一下上面的一些你还不知道的知识点吧。\n",
    "\n",
    "一个useful link：https://docs.python.org/3/library/functions.html\n",
    "\n",
    "请你在下面的代码块中补充你认为有用的知识点，或者你认为需要补充的内容。\n",
    "\n",
    "note：一个知识点写一个代码快就行了，不用记住所有东西，其实有好多东西我自己都不知道哈哈哈\n",
    "\n",
    "加油Sarah！！！"
   ],
   "id": "cc0c2d198de09e56"
  },
  {
   "cell_type": "code",
   "execution_count": null,
   "id": "c054181f3ae0771c",
   "metadata": {},
   "outputs": [],
   "source": []
  }
 ],
 "metadata": {
  "kernelspec": {
   "display_name": "Python 3 (ipykernel)",
   "language": "python",
   "name": "python3"
  },
  "language_info": {
   "codemirror_mode": {
    "name": "ipython",
    "version": 3
   },
   "file_extension": ".py",
   "mimetype": "text/x-python",
   "name": "python",
   "nbconvert_exporter": "python",
   "pygments_lexer": "ipython3",
   "version": "3.12.4"
  }
 },
 "nbformat": 4,
 "nbformat_minor": 5
}
