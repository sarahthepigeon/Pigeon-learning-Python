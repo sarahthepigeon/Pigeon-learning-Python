{
 "cells": [
  {
   "cell_type": "markdown",
   "metadata": {},
   "source": [
    "### Day16: 一点点Numpy functions 和 Matplotlib 绘图\n",
    "\n",
    "你好Sarah! 今天让我们学一点画图和更多numpy函数。"
   ]
  },
  {
   "cell_type": "markdown",
   "metadata": {},
   "source": [
    "### Matplotlib\n",
    "\n",
    "Claude：\n",
    "\n",
    "Matplotlib 是 Python 最流行的绘图库，可以创建各种类型的图表：\n",
    "- 线图、散点图、柱状图\n",
    "- 饼图、直方图、热力图\n",
    "- 3D 图表、子图等\n",
    "\n",
    "基本使用需要导入：\n",
    "import matplotlib.pyplot as plt\n",
    "\n",
    "常用功能：\n",
    "- plt.plot() - 绘制线图\n",
    "- plt.scatter() - 绘制散点图  \n",
    "- plt.bar() - 绘制柱状图\n",
    "- plt.pie() - 绘制饼图\n",
    "- plt.hist() - 绘制直方图\n",
    "- plt.subplots() - 绘制子图\n",
    "- plt.show() - 显示图表\n",
    "- plt.savefig() - 保存图表\n",
    "\n",
    "Ken：\n",
    "\n",
    "pyplot经常和numpy一起使用。numpy可以处理数据，pyplot可以画图。"
   ]
  },
  {
   "cell_type": "code",
   "execution_count": null,
   "metadata": {},
   "outputs": [],
   "source": [
    "# 首先，一点numpy常用函数\n",
    "\n",
    "import numpy as np\n",
    "\n",
    "np.arange(1, 10, 0.5)"
   ]
  },
  {
   "cell_type": "code",
   "execution_count": null,
   "metadata": {},
   "outputs": [],
   "source": [
    "np.linspace(1, 3, 10)"
   ]
  },
  {
   "cell_type": "code",
   "execution_count": null,
   "metadata": {},
   "outputs": [],
   "source": [
    "np.random.random(10)"
   ]
  },
  {
   "cell_type": "code",
   "execution_count": null,
   "metadata": {},
   "outputs": [],
   "source": [
    "np.random.normal(0, 1, 10)"
   ]
  },
  {
   "cell_type": "code",
   "execution_count": null,
   "metadata": {},
   "outputs": [],
   "source": [
    "np.random.randn(10)\n",
    "\n",
    "# Ken: np.random.normal 和 np.random.randn 的区别：\n",
    "# np.random.normal 可以指定均值和标准差，但是randn是标准正态分布，即均值为0，标准差为1\n",
    "# 所以可以认为normal是randn的扩展版"
   ]
  },
  {
   "cell_type": "code",
   "execution_count": null,
   "metadata": {},
   "outputs": [],
   "source": [
    "# 可能需要先安装matplotlib\n",
    "# pip install matplotlib\n",
    "\n",
    "# 绘制一个简单的折线图\n",
    "from matplotlib import pyplot as plt\n",
    "\n",
    "x = [1, 2, 3, 4, 5]\n",
    "y = [1, 4, 9, 16, 25]\n",
    "\n",
    "plt.plot(x, y)\n",
    "plt.show()"
   ]
  },
  {
   "cell_type": "code",
   "execution_count": null,
   "metadata": {},
   "outputs": [],
   "source": [
    "# 绘制一个sine wave\n",
    "\n",
    "from matplotlib import pyplot as plt\n",
    "import numpy as np\n",
    "\n",
    "x = np.linspace(0, 2*np.pi, 100)\n",
    "y = np.sin(x)\n",
    "\n",
    "print(x)\n",
    "print(y)\n",
    "\n",
    "plt.plot(x, y)\n",
    "plt.show()"
   ]
  },
  {
   "cell_type": "code",
   "execution_count": 58,
   "metadata": {},
   "outputs": [],
   "source": [
    "# 下面的语句可以指定全局字体以支持中文\n",
    "\n",
    "import matplotlib\n",
    "matplotlib.rcParams['font.family'] = 'Microsoft YaHei'"
   ]
  },
  {
   "cell_type": "code",
   "execution_count": null,
   "metadata": {},
   "outputs": [],
   "source": [
    "# 多条线图\n",
    "x = np.linspace(0, 10, 100)\n",
    "y1 = np.sin(x)\n",
    "y2 = np.cos(x)\n",
    "\n",
    "plt.plot(x, y1, label='sin(x)')\n",
    "plt.plot(x, y2, label='cos(x)')\n",
    "plt.legend()\n",
    "plt.title(\"多条线图\")\n",
    "plt.show()\n"
   ]
  },
  {
   "cell_type": "code",
   "execution_count": null,
   "metadata": {},
   "outputs": [],
   "source": [
    "# Ken懒了，所以Claude来接手！今天我们学习用Python处理图像的各种酷炫功能。\n",
    "\n",
    "# # 散点图\n",
    "import matplotlib.pyplot as plt\n",
    "import numpy as np\n",
    "\n",
    "x = np.random.randn(50)\n",
    "y = np.random.randn(50)\n",
    "\n",
    "plt.scatter(x, y)\n",
    "plt.title(\"散点图\")\n",
    "plt.show()\n"
   ]
  },
  {
   "cell_type": "code",
   "execution_count": null,
   "metadata": {},
   "outputs": [],
   "source": [
    "# 柱状图\n",
    "categories = ['A', 'B', 'C', 'D', 'E']\n",
    "values = [23, 45, 56, 78, 32]\n",
    "\n",
    "plt.bar(categories, values)\n",
    "plt.title(\"柱状图\")\n",
    "plt.show()\n"
   ]
  },
  {
   "cell_type": "code",
   "execution_count": null,
   "metadata": {},
   "outputs": [],
   "source": [
    "# 饼图\n",
    "sizes = [15, 30, 45, 10]\n",
    "labels = ['苹果', '香蕉', '橙子', '葡萄']\n",
    "\n",
    "plt.pie(sizes, labels=labels)\n",
    "plt.title(\"饼图\")\n",
    "plt.show()\n"
   ]
  },
  {
   "cell_type": "code",
   "execution_count": null,
   "metadata": {},
   "outputs": [],
   "source": [
    "# 直方图\n",
    "data = np.random.normal(100, 15, 1000)\n",
    "\n",
    "# Ken: （重复）np.random.normal 和 np.random.randn 的区别：\n",
    "# np.random.normal 可以指定均值和标准差，但是randn是标准正态分布，即均值为0，标准差为1\n",
    "# 所以可以认为normal是randn的扩展版\n",
    "\n",
    "plt.hist(data, bins=30)\n",
    "plt.title(\"直方图\")\n",
    "plt.show()\n"
   ]
  },
  {
   "cell_type": "code",
   "execution_count": null,
   "metadata": {},
   "outputs": [],
   "source": [
    "# 子图（多个图放在一起）\n",
    "\n",
    "# Ken：这里面涉及到了一些figure、axis的概念，如果你觉得太复杂的话就忽略吧，因为学这个东西主要讲究的是会用，\n",
    "# 目前就用默认的 plt.plot()、plt.show() 就好，以后需要用到的时候再学\n",
    "# 不过简而言之，据说当你写plt.plot()的时候，会自动创建一个figure，然后在这个figure上创建一个axis，然后在这个axis上画图\n",
    "\n",
    "fig, (ax1, ax2) = plt.subplots(1, 2, figsize=(10, 4))\n",
    "\n",
    "x = [1, 2, 3, 4, 5]\n",
    "y1 = [1, 4, 9, 16, 25]\n",
    "y2 = [2, 3, 5, 7, 11]\n",
    "\n",
    "ax1.plot(x, y1)\n",
    "ax1.set_title(\"第一个图\")\n",
    "\n",
    "ax2.bar(x, y2) \n",
    "ax2.set_title(\"第二个图\")\n",
    "\n",
    "plt.show()\n"
   ]
  },
  {
   "cell_type": "code",
   "execution_count": null,
   "metadata": {},
   "outputs": [],
   "source": [
    "fig, ax1, ax2"
   ]
  },
  {
   "cell_type": "code",
   "execution_count": null,
   "metadata": {},
   "outputs": [],
   "source": [
    "# 保存图片\n",
    "x = np.linspace(0, 2*np.pi, 100)\n",
    "y = np.sin(x)\n",
    "\n",
    "plt.plot(x, y)\n",
    "plt.title(\"保存的图片\")\n",
    "plt.savefig(\"my_plot.png\")  # 保存为文件\n",
    "plt.show()\n"
   ]
  },
  {
   "cell_type": "code",
   "execution_count": null,
   "metadata": {},
   "outputs": [],
   "source": [
    "# 简单的数据可视化\n",
    "months = ['Jan', 'Feb', 'Mar', 'Apr', 'May']\n",
    "sales = [20, 35, 30, 35, 27]\n",
    "\n",
    "plt.figure(figsize=(8, 5))\n",
    "plt.plot(months, sales, marker='o')\n",
    "plt.title(\"月销售额\")\n",
    "plt.xlabel(\"月份\")\n",
    "plt.ylabel(\"销售额\")\n",
    "plt.grid(True)\n",
    "plt.show()\n"
   ]
  },
  {
   "cell_type": "markdown",
   "metadata": {
    "vscode": {
     "languageId": "raw"
    }
   },
   "source": [
    "### 总结\n",
    "\n",
    "今天学了简单的matplotlib绘图：\n",
    "- 线图：`plt.plot()`\n",
    "- 散点图：`plt.scatter()`  \n",
    "- 柱状图：`plt.bar()`\n",
    "- 饼图：`plt.pie()`\n",
    "- 直方图：`plt.hist()`\n",
    "- 子图：`plt.subplots()`\n",
    "- 保存图片：`plt.savefig()`\n",
    "\n",
    "很简单很实用！"
   ]
  },
  {
   "cell_type": "markdown",
   "metadata": {},
   "source": [
    "Ken: 啊哈哈哈现在的AI挺方便的。不过我也还是“监管”了一下，确保你不会学到一些太复杂的东西。\n",
    "\n",
    "（Bro，不知不觉快两点了……emmmm我好像仍然是花的时间有点多。不过我自己也学到了一些东西哈哈哈。maybe我下次可以再快一点）\n",
    "\n",
    "总之，加油Sarah！！！看好你！"
   ]
  }
 ],
 "metadata": {
  "kernelspec": {
   "display_name": "Python 3",
   "language": "python",
   "name": "python3"
  },
  "language_info": {
   "codemirror_mode": {
    "name": "ipython",
    "version": 3
   },
   "file_extension": ".py",
   "mimetype": "text/x-python",
   "name": "python",
   "nbconvert_exporter": "python",
   "pygments_lexer": "ipython3",
   "version": "3.12.4"
  }
 },
 "nbformat": 4,
 "nbformat_minor": 2
}
