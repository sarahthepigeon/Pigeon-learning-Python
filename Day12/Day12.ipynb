{
 "cells": [
  {
   "cell_type": "markdown",
   "id": "38a7ed58",
   "metadata": {},
   "source": [
    "### Day 12 小练习\n",
    "\n",
    "你好Sarah~今天让我们做一点小练习，请你首先确保清空所有outputs，然后在下面的注释里填写你的预期输出，然后运行代码和对答案。"
   ]
  },
  {
   "cell_type": "markdown",
   "id": "5e74744d",
   "metadata": {},
   "source": [
    "### 1. 插入元素"
   ]
  },
  {
   "cell_type": "code",
   "id": "75a25760",
   "metadata": {},
   "source": [
    "# append\n",
    "a = [1, 2, 3, 4, 5]\n",
    "a.append(6)\n",
    "# 你的答案：[1,2,3,4,5,6]\n",
    "a"
   ],
   "outputs": [],
   "execution_count": null
  },
  {
   "cell_type": "code",
   "id": "115797d8",
   "metadata": {},
   "source": [
    "# insert\n",
    "a = [1, 2, 3, 4, 5]\n",
    "a.insert(2, 10)\n",
    "# 你的答案：[1,2,10,3,4,5]\n",
    "a"
   ],
   "outputs": [],
   "execution_count": null
  },
  {
   "cell_type": "code",
   "id": "44a6c5e4",
   "metadata": {},
   "source": [
    "# extend\n",
    "a = [1, 2, 3, 4, 5]\n",
    "b = [6, 7, 8]\n",
    "a.extend(b)\n",
    "# 你的答案：[1, 2, 3, 4, 5,6,7,8]\n",
    "a"
   ],
   "outputs": [],
   "execution_count": null
  },
  {
   "cell_type": "markdown",
   "id": "e9b0a054",
   "metadata": {},
   "source": [
    "### 2. 获取元素"
   ]
  },
  {
   "cell_type": "code",
   "id": "88a8555b",
   "metadata": {},
   "source": [
    "# __getitem__\n",
    "a = [1, 2, 3, 4, 5]\n",
    "a[2]\n",
    "# 你的答案：3\n",
    "a[2]"
   ],
   "outputs": [],
   "execution_count": null
  },
  {
   "cell_type": "code",
   "id": "21f0533b",
   "metadata": {},
   "source": [
    "a = [1, 2, 3, 4, 5]\n",
    "a[-1] == a[len(a) - 1]\n",
    "# 你的答案：True\n",
    "a[-1] == a[len(a) - 1]"
   ],
   "outputs": [],
   "execution_count": null
  },
  {
   "cell_type": "code",
   "id": "67888d1e",
   "metadata": {},
   "source": [
    "a = [1, 2, 3, 4, 5]\n",
    "a[-6]\n",
    "# 你的答案：idk\n",
    "a[-6]"
   ],
   "outputs": [],
   "execution_count": null
  },
  {
   "cell_type": "code",
   "id": "7cf86e06",
   "metadata": {},
   "source": [
    "a = [1, 2, 3, 4, 5]\n",
    "import random\n",
    "a[random.randint(0, len(a) - 1)]\n",
    "# 你的答案（可以空泛一点）:1 or 2 or...5\n",
    "a[random.randint(0, len(a) - 1)]"
   ],
   "outputs": [],
   "execution_count": null
  },
  {
   "cell_type": "code",
   "id": "ddac2ea4",
   "metadata": {
    "ExecuteTime": {
     "end_time": "2025-06-23T23:33:09.182266Z",
     "start_time": "2025-06-23T23:33:09.175709Z"
    }
   },
   "source": [
    "a = [1, 2, 3, 4, 5]\n",
    "import random\n",
    "random.choice(a)\n",
    "# 你的答案（可以空泛一点）:1 or 2 or...5\n",
    "random.choice(a)"
   ],
   "outputs": [
    {
     "data": {
      "text/plain": [
       "2"
      ]
     },
     "execution_count": 25,
     "metadata": {},
     "output_type": "execute_result"
    }
   ],
   "execution_count": 25
  },
  {
   "cell_type": "code",
   "id": "65f3e42e",
   "metadata": {
    "ExecuteTime": {
     "end_time": "2025-06-23T23:34:36.536369Z",
     "start_time": "2025-06-23T23:34:36.527435Z"
    }
   },
   "source": [
    "a = [1, 2, 3, 4, 5]\n",
    "b = [5, 4, 3, 2, 1]\n",
    "a > b\n",
    "# 你的答案：False\n",
    "a > b"
   ],
   "outputs": [
    {
     "data": {
      "text/plain": [
       "False"
      ]
     },
     "execution_count": 26,
     "metadata": {},
     "output_type": "execute_result"
    }
   ],
   "execution_count": 26
  },
  {
   "cell_type": "code",
   "id": "4947e421",
   "metadata": {
    "ExecuteTime": {
     "end_time": "2025-06-23T23:35:24.702330Z",
     "start_time": "2025-06-23T23:35:24.693989Z"
    }
   },
   "source": [
    "a = [1, 2, 3, 4, 5]\n",
    "b = 3\n",
    "b in a\n",
    "# 你的答案：True\n",
    "b in a"
   ],
   "outputs": [
    {
     "data": {
      "text/plain": [
       "True"
      ]
     },
     "execution_count": 27,
     "metadata": {},
     "output_type": "execute_result"
    }
   ],
   "execution_count": 27
  },
  {
   "cell_type": "code",
   "id": "c7e7ebc4",
   "metadata": {
    "ExecuteTime": {
     "end_time": "2025-06-23T23:37:16.292946Z",
     "start_time": "2025-06-23T23:37:16.284852Z"
    }
   },
   "source": [
    "a = [1, 2, 3, 4, 5]\n",
    "b = 3\n",
    "a.index(b) if b in a else -1\n",
    "# 你的答案：2\n",
    "a.index(b) if b in a else -1"
   ],
   "outputs": [
    {
     "data": {
      "text/plain": [
       "2"
      ]
     },
     "execution_count": 28,
     "metadata": {},
     "output_type": "execute_result"
    }
   ],
   "execution_count": 28
  },
  {
   "cell_type": "markdown",
   "id": "fbd9ecbe",
   "metadata": {},
   "source": [
    "### 3. 删除元素"
   ]
  },
  {
   "cell_type": "code",
   "id": "d8fbf2ab",
   "metadata": {
    "ExecuteTime": {
     "end_time": "2025-06-23T23:37:36.760305Z",
     "start_time": "2025-06-23T23:37:36.752226Z"
    }
   },
   "source": [
    "# remove\n",
    "a = [1, 2, 3, 4, 5]\n",
    "a.remove(3)\n",
    "# 你的答案：[1, 2, 4, 5]\n",
    "a"
   ],
   "outputs": [
    {
     "data": {
      "text/plain": [
       "[1, 2, 4, 5]"
      ]
     },
     "execution_count": 29,
     "metadata": {},
     "output_type": "execute_result"
    }
   ],
   "execution_count": 29
  },
  {
   "cell_type": "code",
   "id": "dda21f1b",
   "metadata": {
    "ExecuteTime": {
     "end_time": "2025-06-23T23:37:53.614444Z",
     "start_time": "2025-06-23T23:37:53.566210Z"
    }
   },
   "source": [
    "# remove\n",
    "a = [1, 2, 3, 4, 5]\n",
    "a.remove(10)\n",
    "# 你的答案：error\n",
    "a"
   ],
   "outputs": [
    {
     "ename": "ValueError",
     "evalue": "list.remove(x): x not in list",
     "output_type": "error",
     "traceback": [
      "\u001B[31m---------------------------------------------------------------------------\u001B[39m",
      "\u001B[31mValueError\u001B[39m                                Traceback (most recent call last)",
      "\u001B[36mCell\u001B[39m\u001B[36m \u001B[39m\u001B[32mIn[30]\u001B[39m\u001B[32m, line 3\u001B[39m\n\u001B[32m      1\u001B[39m \u001B[38;5;66;03m# remove\u001B[39;00m\n\u001B[32m      2\u001B[39m a = [\u001B[32m1\u001B[39m, \u001B[32m2\u001B[39m, \u001B[32m3\u001B[39m, \u001B[32m4\u001B[39m, \u001B[32m5\u001B[39m]\n\u001B[32m----> \u001B[39m\u001B[32m3\u001B[39m \u001B[43ma\u001B[49m\u001B[43m.\u001B[49m\u001B[43mremove\u001B[49m\u001B[43m(\u001B[49m\u001B[32;43m10\u001B[39;49m\u001B[43m)\u001B[49m\n\u001B[32m      4\u001B[39m \u001B[38;5;66;03m# 你的答案：[1, 2, 3, 4, 5]\u001B[39;00m\n\u001B[32m      5\u001B[39m a\n",
      "\u001B[31mValueError\u001B[39m: list.remove(x): x not in list"
     ]
    }
   ],
   "execution_count": 30
  },
  {
   "cell_type": "code",
   "id": "65613b25",
   "metadata": {
    "ExecuteTime": {
     "end_time": "2025-06-23T23:40:21.458736Z",
     "start_time": "2025-06-23T23:40:21.450061Z"
    }
   },
   "source": [
    "# pop\n",
    "a = [1, 2, 3, 4, 5]\n",
    "b = a.pop()\n",
    "# 你的答案：([1, 2, 3, 4], 5)\n",
    "a, b"
   ],
   "outputs": [
    {
     "data": {
      "text/plain": [
       "([1, 2, 3, 4], 5)"
      ]
     },
     "execution_count": 31,
     "metadata": {},
     "output_type": "execute_result"
    }
   ],
   "execution_count": 31
  },
  {
   "cell_type": "code",
   "id": "1d7960b9",
   "metadata": {
    "ExecuteTime": {
     "end_time": "2025-06-23T23:40:57.672636Z",
     "start_time": "2025-06-23T23:40:57.662203Z"
    }
   },
   "source": [
    "# pop\n",
    "a = [1, 2, 3, 4, 5]\n",
    "b = a.pop(2)\n",
    "# 你的答案：([1,2,4,5], 3)\n",
    "a, b"
   ],
   "outputs": [
    {
     "data": {
      "text/plain": [
       "([1, 2, 4, 5], 3)"
      ]
     },
     "execution_count": 32,
     "metadata": {},
     "output_type": "execute_result"
    }
   ],
   "execution_count": 32
  },
  {
   "cell_type": "markdown",
   "id": "35e7fe3d",
   "metadata": {},
   "source": [
    "今天就学这么多哈哈哈，加油！"
   ]
  }
 ],
 "metadata": {
  "kernelspec": {
   "display_name": "Python 3",
   "language": "python",
   "name": "python3"
  },
  "language_info": {
   "codemirror_mode": {
    "name": "ipython",
    "version": 3
   },
   "file_extension": ".py",
   "mimetype": "text/x-python",
   "name": "python",
   "nbconvert_exporter": "python",
   "pygments_lexer": "ipython3",
   "version": "3.12.4"
  }
 },
 "nbformat": 4,
 "nbformat_minor": 5
}
