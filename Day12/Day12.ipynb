{
 "cells": [
  {
   "cell_type": "markdown",
   "id": "38a7ed58",
   "metadata": {},
   "source": [
    "### Day 12 小练习\n",
    "\n",
    "你好Sarah~今天让我们做一点小练习，请你首先确保清空所有outputs，然后在下面的注释里填写你的预期输出，然后运行代码和对答案。"
   ]
  },
  {
   "cell_type": "markdown",
   "id": "5e74744d",
   "metadata": {},
   "source": [
    "### 1. 插入元素"
   ]
  },
  {
   "cell_type": "code",
   "execution_count": null,
   "id": "75a25760",
   "metadata": {},
   "outputs": [],
   "source": [
    "# append\n",
    "a = [1, 2, 3, 4, 5]\n",
    "a.append(6)\n",
    "# 你的答案：\n",
    "a"
   ]
  },
  {
   "cell_type": "code",
   "execution_count": null,
   "id": "115797d8",
   "metadata": {},
   "outputs": [],
   "source": [
    "# insert\n",
    "a = [1, 2, 3, 4, 5]\n",
    "a.insert(2, 10)\n",
    "# 你的答案：\n",
    "a"
   ]
  },
  {
   "cell_type": "code",
   "execution_count": null,
   "id": "44a6c5e4",
   "metadata": {},
   "outputs": [],
   "source": [
    "# extend\n",
    "a = [1, 2, 3, 4, 5]\n",
    "b = [6, 7, 8]\n",
    "a.extend(b)\n",
    "# 你的答案：\n",
    "a"
   ]
  },
  {
   "cell_type": "markdown",
   "id": "e9b0a054",
   "metadata": {},
   "source": [
    "### 2. 获取元素"
   ]
  },
  {
   "cell_type": "code",
   "execution_count": null,
   "id": "88a8555b",
   "metadata": {},
   "outputs": [],
   "source": [
    "# __getitem__\n",
    "a = [1, 2, 3, 4, 5]\n",
    "a[2]\n",
    "# 你的答案：\n",
    "a[2]"
   ]
  },
  {
   "cell_type": "code",
   "execution_count": null,
   "id": "21f0533b",
   "metadata": {},
   "outputs": [],
   "source": [
    "a = [1, 2, 3, 4, 5]\n",
    "a[-1] == a[len(a) - 1]\n",
    "# 你的答案：\n",
    "a[-1] == a[len(a) - 1]"
   ]
  },
  {
   "cell_type": "code",
   "execution_count": null,
   "id": "67888d1e",
   "metadata": {},
   "outputs": [],
   "source": [
    "a = [1, 2, 3, 4, 5]\n",
    "a[-6]\n",
    "# 你的答案：\n",
    "a[-6]"
   ]
  },
  {
   "cell_type": "code",
   "execution_count": null,
   "id": "7cf86e06",
   "metadata": {},
   "outputs": [],
   "source": [
    "a = [1, 2, 3, 4, 5]\n",
    "import random\n",
    "a[random.randint(0, len(a) - 1)]\n",
    "# 你的答案（可以空泛一点）:\n",
    "a[random.randint(0, len(a) - 1)]"
   ]
  },
  {
   "cell_type": "code",
   "execution_count": null,
   "id": "ddac2ea4",
   "metadata": {},
   "outputs": [],
   "source": [
    "a = [1, 2, 3, 4, 5]\n",
    "import random\n",
    "random.choice(a)\n",
    "# 你的答案（可以空泛一点）:\n",
    "random.choice(a)"
   ]
  },
  {
   "cell_type": "code",
   "execution_count": null,
   "id": "65f3e42e",
   "metadata": {},
   "outputs": [],
   "source": [
    "a = [1, 2, 3, 4, 5]\n",
    "b = [5, 4, 3, 2, 1]\n",
    "a > b\n",
    "# 你的答案：\n",
    "a > b"
   ]
  },
  {
   "cell_type": "code",
   "execution_count": null,
   "id": "4947e421",
   "metadata": {},
   "outputs": [],
   "source": [
    "a = [1, 2, 3, 4, 5]\n",
    "b = 3\n",
    "b in a\n",
    "# 你的答案：\n",
    "b in a"
   ]
  },
  {
   "cell_type": "code",
   "execution_count": null,
   "id": "c7e7ebc4",
   "metadata": {},
   "outputs": [],
   "source": [
    "a = [1, 2, 3, 4, 5]\n",
    "b = 3\n",
    "a.index(b) if b in a else -1\n",
    "# 你的答案：\n",
    "a.index(b) if b in a else -1"
   ]
  },
  {
   "cell_type": "markdown",
   "id": "fbd9ecbe",
   "metadata": {},
   "source": [
    "### 3. 删除元素"
   ]
  },
  {
   "cell_type": "code",
   "execution_count": null,
   "id": "d8fbf2ab",
   "metadata": {},
   "outputs": [],
   "source": [
    "# remove\n",
    "a = [1, 2, 3, 4, 5]\n",
    "a.remove(3)\n",
    "# 你的答案：\n",
    "a"
   ]
  },
  {
   "cell_type": "code",
   "execution_count": null,
   "id": "dda21f1b",
   "metadata": {},
   "outputs": [],
   "source": [
    "# remove\n",
    "a = [1, 2, 3, 4, 5]\n",
    "a.remove(10)\n",
    "# 你的答案：\n",
    "a"
   ]
  },
  {
   "cell_type": "code",
   "execution_count": null,
   "id": "65613b25",
   "metadata": {},
   "outputs": [],
   "source": [
    "# pop\n",
    "a = [1, 2, 3, 4, 5]\n",
    "b = a.pop()\n",
    "# 你的答案：\n",
    "a, b"
   ]
  },
  {
   "cell_type": "code",
   "execution_count": null,
   "id": "1d7960b9",
   "metadata": {},
   "outputs": [],
   "source": [
    "# pop\n",
    "a = [1, 2, 3, 4, 5]\n",
    "b = a.pop(2)\n",
    "# 你的答案：\n",
    "a, b"
   ]
  },
  {
   "cell_type": "markdown",
   "id": "35e7fe3d",
   "metadata": {},
   "source": [
    "今天就学这么多哈哈哈，加油！"
   ]
  }
 ],
 "metadata": {
  "kernelspec": {
   "display_name": "Python 3",
   "language": "python",
   "name": "python3"
  },
  "language_info": {
   "codemirror_mode": {
    "name": "ipython",
    "version": 3
   },
   "file_extension": ".py",
   "mimetype": "text/x-python",
   "name": "python",
   "nbconvert_exporter": "python",
   "pygments_lexer": "ipython3",
   "version": "3.12.4"
  }
 },
 "nbformat": 4,
 "nbformat_minor": 5
}
