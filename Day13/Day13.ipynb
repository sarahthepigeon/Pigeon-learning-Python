{
 "cells": [
  {
   "cell_type": "markdown",
   "id": "8ad5cd88",
   "metadata": {},
   "source": [
    "### Day 13: 更多list小练习，结合类和魔法方法\n",
    "\n",
    "今天，让我们来创建一个像列表一样的类，让这个类和列表有一样的特性。哈哈哈这样Sarah又可以学到列表，又可以学到类和魔法方法。我是不是天才\n",
    "\n",
    "emmmm 好吧，好像并不是。Sarah可能会问：那我在类里面套一个list不就行了吗？为什么要这么麻烦？\n",
    "\n",
    "emmmm 我想到，Sarah总是觉得Python简单得让人感觉很难受，因为好多高级的方法把底层的东西都隐藏掉了。那么让我们只在类里面使用一个最基本的C语言数组。"
   ]
  },
  {
   "cell_type": "markdown",
   "id": "0e56bd04",
   "metadata": {},
   "source": [
    "Python的列表和C语言的数组的区别一览 (我们将要实现的部分)：\n",
    "\n",
    "1. **边界检查**: 访问列表时，如果索引超出了范围，我们会像Python的列表一样，抛出一个`IndexError`异常，而非SegFault。\n",
    "\n",
    "2. **负索引**: 我们可以使用负数作为索引来从后往前访问列表的元素，例如 `my_list[-1]` 访问最后一个元素。\n",
    "\n",
    "3. **打印输出**: 我们会实现 `__repr__` 和 `__str__` 方法，这样就可以用 `print()` 函数来清晰地看到我们列表的内容了。\n",
    "\n",
    "4. **多种类型**: 我们的列表可以存储多种类型的元素，包括整数、字符串、对象等，然而C语言的数组通常只能存储同一类型的元素。"
   ]
  },
  {
   "cell_type": "code",
   "execution_count": null,
   "id": "0334ff45",
   "metadata": {},
   "outputs": [],
   "source": [
    "# Note: Python不支持指针功能，所以我们使用`id()`函数来somehow模拟指针。\n",
    "# 但是这个只是玩玩，演示用途哈哈哈\n",
    "# 另外这个函数是Gemini写的，我也不知道什么意思，就这样用吧😓\n",
    "\n",
    "import gc\n",
    "\n",
    "def get_object_by_id(object_id):\n",
    "    for obj in gc.get_objects():\n",
    "        if id(obj) == object_id:\n",
    "            return obj\n",
    "    return None\n",
    "\n",
    "def is_passed_by_value(obj):\n",
    "    \"\"\"\n",
    "    判断对象是否是通过值传递的。\n",
    "    :param obj: 需要检查的对象\n",
    "    :return:  True 如果对象是通过值传递的，False 如果对象是通过引用传递的。\n",
    "    \"\"\"\n",
    "    # 获取对象的ID\n",
    "    object_id = id(obj)\n",
    "    \n",
    "    # 通过ID获取对象\n",
    "    retrieved_obj = get_object_by_id(object_id)\n",
    "    \n",
    "    # 如果能通过ID找到对象，说明它是通过引用传递的\n",
    "    if retrieved_obj is not None:\n",
    "        return False\n",
    "    \n",
    "    # 如果找不到，说明它不是通过引用传递的\n",
    "    return True"
   ]
  },
  {
   "cell_type": "code",
   "execution_count": null,
   "id": "8a71c08e",
   "metadata": {},
   "outputs": [],
   "source": [
    "class MyList:\n",
    "    def __init__(self):\n",
    "        # 方便起见，我们只允许创建空的列表，然后往里面添加东西\n",
    "\n",
    "        # 这是内部管理的空列表，固定长度，只能存放一种数据，并且没有花里胡哨的方法，只存放id\n",
    "        self._list = [None] * 1000 # 预设长度为1000\n",
    "        self._len =  0  # 当前列表长度\n",
    "\n",
    "    def __getitem__(self, index):\n",
    "        # 允许通过索引访问元素，附带边界检查\n",
    "        raise NotImplementedError\n",
    "    \n",
    "    def __setitem__(self, index, value):\n",
    "        # 允许通过索引设置元素，附带边界检查\n",
    "        raise NotImplementedError\n",
    "    \n",
    "    def __contains__(self, value):\n",
    "        # 允许检查元素是否在列表中，在 xx in xx 语句中使用\n",
    "        raise NotImplementedError\n",
    "    \n",
    "    def append(self, value):\n",
    "        # 允许添加元素到列表末尾\n",
    "        raise NotImplementedError\n",
    "    \n",
    "    def remove(self, value):\n",
    "        # 允许删除列表中的元素\n",
    "        raise NotImplementedError\n",
    "    \n",
    "    def insert(self, index, value):\n",
    "        # 允许在指定位置插入元素\n",
    "        raise NotImplementedError\n",
    "    \n",
    "    def __str__(self):\n",
    "        # 返回列表的字符串表示，可能在print时使用\n",
    "        raise NotImplementedError\n",
    "    \n",
    "    def __repr__(self):\n",
    "        # 返回列表的字符串表示\n",
    "        return self.__str__()"
   ]
  },
  {
   "cell_type": "markdown",
   "id": "156fd62d",
   "metadata": {},
   "source": [
    "另：我叫Gemini生成了一个Python列表的各个操作的时间复杂度表格，供参考：\n",
    "\n",
    "| 函数/操作          | 平均时间复杂度 | 最坏时间复杂度 | 备注                                     |\n",
    "| :----------------- | :------------- | :------------- | :--------------------------------------- |\n",
    "| `list[index]` (访问) | O(1)           | O(1)           | 通过索引直接访问元素                     |\n",
    "| `len(list)`        | O(1)           | O(1)           | 获取列表长度                             |\n",
    "| `list.append(item)`| O(1)           | O(N)           | 在列表末尾添加元素，扩容时为O(N)         |\n",
    "| `list.pop()`       | O(1)           | O(1)           | 移除并返回列表末尾元素                   |\n",
    "| `list.insert(index, item)` | O(N)           | O(N)           | 在指定位置插入元素，需要移动后续元素     |\n",
    "| `list.pop(index)`  | O(N)           | O(N)           | 移除并返回指定位置元素，需要移动后续元素 |\n",
    "| `value in list` (查找) | O(N)           | O(N)           | 顺序查找元素                             |\n",
    "| `list.sort()`      | O(N log N)     | O(N log N)     | 原地排序，基于 Timsort 算法              |\n",
    "| `list.reverse()`   | O(N)           | O(N)           | 原地反转列表                             |"
   ]
  },
  {
   "cell_type": "markdown",
   "id": "ab55d0ac",
   "metadata": {},
   "source": [
    "下面，让我们测试你写的类吧！Note: 不要传递pass by value的参数吧，如果传递了这样的值，就让它报错吧"
   ]
  },
  {
   "cell_type": "code",
   "execution_count": null,
   "id": "84747e18",
   "metadata": {},
   "outputs": [],
   "source": [
    "class testObject:\n",
    "    def __init__(self, name):\n",
    "        self.name = name\n",
    "\n",
    "    def __repr__(self):\n",
    "        return f\"testObject({self.name})\"\n",
    "\n",
    "class testObject2:\n",
    "    def __init__(self, name):\n",
    "        self.name = name\n",
    "\n",
    "    def __repr__(self):\n",
    "        return f\"testObject2({self.name})\""
   ]
  },
  {
   "cell_type": "code",
   "execution_count": null,
   "id": "d77ec80e",
   "metadata": {},
   "outputs": [],
   "source": [
    "obj1 = testObject(\"obj1\")\n",
    "obj2 = testObject2(\"obj2\")\n",
    "obj3 = testObject(\"obj3\")"
   ]
  },
  {
   "cell_type": "code",
   "execution_count": null,
   "id": "f334a614",
   "metadata": {},
   "outputs": [],
   "source": [
    "l1 =  []  # 重置 l1\n",
    "l2 = MyList()  # 重置 l2\n",
    "l1, l2  # 这回调用 `__repr__` 还是 `__str__` 我忘了"
   ]
  },
  {
   "cell_type": "code",
   "execution_count": null,
   "id": "cedc8894",
   "metadata": {},
   "outputs": [],
   "source": [
    "# append\n",
    "l1.append(obj1)\n",
    "l2.append(obj1)\n",
    "l1, l2"
   ]
  },
  {
   "cell_type": "code",
   "execution_count": null,
   "id": "3bb8834e",
   "metadata": {},
   "outputs": [],
   "source": [
    "# __getitem__\n",
    "l2[0]"
   ]
  },
  {
   "cell_type": "code",
   "execution_count": null,
   "id": "803d69c9",
   "metadata": {},
   "outputs": [],
   "source": [
    "# __setitem__\n",
    "l2[0] = obj2  # 修改 l2 中的第一个元素\n",
    "l1, l2"
   ]
  },
  {
   "cell_type": "code",
   "execution_count": null,
   "id": "5db4cb4d",
   "metadata": {},
   "outputs": [],
   "source": [
    "# remove\n",
    "l1.remove(obj1)  # 从 l1 中删除 obj1\n",
    "l2.remove(obj2)  # 从 l2 中删除 obj1\n",
    "l1, l2"
   ]
  },
  {
   "cell_type": "code",
   "execution_count": null,
   "id": "145e1265",
   "metadata": {},
   "outputs": [],
   "source": [
    "# contains\n",
    "l1.append(obj1)  # 再次添加 obj1 到 l1\n",
    "l2.append(obj2)  # 再次添加 obj2 到 l2\n",
    "obj1 in l1, obj2 in l2"
   ]
  },
  {
   "cell_type": "code",
   "execution_count": null,
   "id": "5583c442",
   "metadata": {},
   "outputs": [],
   "source": [
    "# insert\n",
    "l2.insert(1, obj1)  # 在 l2 的开头插入 obj3\n",
    "l2"
   ]
  }
 ],
 "metadata": {
  "kernelspec": {
   "display_name": "Python 3",
   "language": "python",
   "name": "python3"
  },
  "language_info": {
   "codemirror_mode": {
    "name": "ipython",
    "version": 3
   },
   "file_extension": ".py",
   "mimetype": "text/x-python",
   "name": "python",
   "nbconvert_exporter": "python",
   "pygments_lexer": "ipython3",
   "version": "3.12.4"
  }
 },
 "nbformat": 4,
 "nbformat_minor": 5
}
