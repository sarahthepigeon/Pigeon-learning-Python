{
 "cells": [
  {
   "cell_type": "markdown",
   "id": "f2e0f988a28df77e",
   "metadata": {},
   "source": [
    "## Hello from Ken on Jupyter Notebook!"
   ]
  },
  {
   "cell_type": "markdown",
   "id": "40cb3efb283b9514",
   "metadata": {},
   "source": [
    "### 1. 什么是 Jupyter Notebook？\n",
    "\n",
    "让Claude姐姐为你介绍一下！\n",
    "\n",
    "```\n",
    "Jupyter Notebook是一个开源的交互式计算环境，让你可以在网页浏览器中创建和分享包含代码、文本、图表和公式的文档。\n",
    "\n",
    "它主要用于数据科学、机器学习和研究工作。你可以逐个运行代码块，立即看到结果，非常适合数据分析和实验。支持Python、R、Julia等多种编程语言。\n",
    "\n",
    "简单来说，就是一个在浏览器里写代码、做分析、写笔记的工具。\n",
    "```"
   ]
  },
  {
   "cell_type": "markdown",
   "id": "d4e7eec91bdbb97c",
   "metadata": {},
   "source": [
    "### 2. Jupyter Notebook 的基本结构\n",
    "\n",
    "Jupyter Notebook 由多个单元（cell）组成，每个单元可以包含代码、文本或其他内容。常见的单元类型有：\n",
    "- **代码单元（Code Cell）**：用于编写和运行代码。\n",
    "- **文本单元（Markdown Cell）**：用于编写说明、注释或其他文本内容，支持Markdown语法。\n",
    "\n",
    "每个单元格可以单独运行，运行后会显示输出结果。你可以通过点击单元格来编辑内容，或者使用快捷键来运行。\n",
    "\n",
    "当你**双击**一个单元格时，如果你看到了正在闪动的光标，就表示你可以在这个单元格中输入内容。\n",
    "\n",
    "但是如果你**单击**单元格，而没有看到光标闪动，那么它只是处于选中状态，你可以双击或按下 `Enter` 键来进入编辑模式。"
   ]
  },
  {
   "cell_type": "markdown",
   "id": "ad7d1fa8daed1aaa",
   "metadata": {},
   "source": [
    "### 3. 常用快捷键\n",
    "\n",
    "1. `Ctrl + Enter`：运行当前单元\n",
    "2. `Shift + Enter`：运行当前单元并跳转到下一个单元\n",
    "3. 选中状态下（非编辑模式），按 `A`：在当前单元上方插入新单元\n",
    "4. 选中状态下，按 `B`：在当前单元下方插入新单元\n",
    "5. 选中状态下，按 `D` 两次：删除当前单元\n",
    "7. 选中状态下，按 `M`：将当前单元转换为 Markdown 单元\n",
    "8. 选中状态下，按 `Y`：将当前单元转换为代码单元\n",
    "9. 编辑模式下，按`Esc`：退出编辑模式"
   ]
  },
  {
   "cell_type": "markdown",
   "id": "290248919196b58",
   "metadata": {},
   "source": [
    "### 4. 什么是Kernel？\n",
    "\n",
    "Kernel 是 Jupyter Notebook 的核心组件，负责执行代码并返回结果。每个 Notebook 都有一个关联的 Kernel，当你运行代码时，Kernel 会处理这些代码并返回输出。\n",
    "\n",
    "简而言之，Kernel 就是 Jupyter Notebook 中的 Python 解释器或其他编程语言的执行环境。你可以在 Notebook 中选择不同的 Kernel 来运行不同语言的代码。"
   ]
  },
  {
   "metadata": {},
   "cell_type": "markdown",
   "source": "### 5. 让我们随便写点什么",
   "id": "22a8a18046b8442c"
  },
  {
   "metadata": {
    "ExecuteTime": {
     "end_time": "2025-06-15T19:47:07.220063Z",
     "start_time": "2025-06-15T19:47:07.215087Z"
    }
   },
   "cell_type": "code",
   "source": "import random",
   "id": "f0795929fa6498bd",
   "outputs": [],
   "execution_count": 1
  },
  {
   "metadata": {
    "ExecuteTime": {
     "end_time": "2025-06-15T19:48:30.622887Z",
     "start_time": "2025-06-15T19:48:30.614158Z"
    }
   },
   "cell_type": "code",
   "source": "random.randint(1, 100)",
   "id": "13a4748a46eeecbf",
   "outputs": [
    {
     "data": {
      "text/plain": [
       "93"
      ]
     },
     "execution_count": 3,
     "metadata": {},
     "output_type": "execute_result"
    }
   ],
   "execution_count": 3
  },
  {
   "metadata": {},
   "cell_type": "markdown",
   "source": "今天就学这么多吧！加油Sarah老师！",
   "id": "9b8d58dc623be7a3"
  }
 ],
 "metadata": {
  "kernelspec": {
   "display_name": "Python 3 (ipykernel)",
   "language": "python",
   "name": "python3"
  },
  "language_info": {
   "codemirror_mode": {
    "name": "ipython",
    "version": 3
   },
   "file_extension": ".py",
   "mimetype": "text/x-python",
   "name": "python",
   "nbconvert_exporter": "python",
   "pygments_lexer": "ipython3",
   "version": "3.12.4"
  }
 },
 "nbformat": 4,
 "nbformat_minor": 5
}
