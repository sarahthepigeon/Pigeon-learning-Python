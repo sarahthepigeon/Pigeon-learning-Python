{
 "cells": [
  {
   "cell_type": "markdown",
   "id": "b8a04473",
   "metadata": {},
   "source": [
    "### Day14: 列表的扩展 - Numpy Array 入门！"
   ]
  },
  {
   "cell_type": "markdown",
   "id": "d4fb08e0",
   "metadata": {},
   "source": [
    "Sarah老师好！今天让我们为列表添加一些功能，让它的各种运算变得更方便！\n",
    "\n",
    "具体要添加什么功能呢？Ken同学在想，要不让列表更像C语言的数组一些吧。我们规定这个列表只能存整数或者浮点数，然后让其支持各种各样的便捷的四则运算之类的。让我来举个例子：\n",
    "\n",
    "```Python\n",
    "list1 = MyList([1, 2, 3, 4, 5])\n",
    "list2 = MyList([5, 4, 3, 2, 1])\n",
    "\n",
    "# 列表和数字进行四则运算\n",
    "list1 + 1  # [2, 3, 4, 5, 6]\n",
    "list1 * 2  # [2, 4, 6, 8, 10]\n",
    "list1 ** 2  # [1, 4, 9, 16, 25]\n",
    "\n",
    "# 两个相同length的列表进行四则运算\n",
    "list1 + list2  # [6, 6, 6, 6, 6]\n",
    "list1 * list2  # [5, 8, 9, 6, 5]\n",
    "list1 ** list2  # [1, 16, 27, 16, 5]\n",
    "```\n",
    "\n",
    "---\n",
    "\n",
    "它应该也有一些机制防止违规初始化啥的，而且既然是数组，初始化之后应该就不能改变大小了\n",
    "\n",
    "```Python\n",
    "list1 = MyList([1, '1', 1.0])  # 要报错\n",
    "\n",
    "list1 = MyList([1, 2, 3])\n",
    "list1.append(4)  # 要报错，因为不能改变大小\n",
    "```\n",
    "\n",
    "---\n",
    "\n",
    "嗯，今天我们就写这么多吧，下面是我打的一些草稿，大部分函数都写好了，剩下一点点等着你来补充"
   ]
  },
  {
   "cell_type": "code",
   "execution_count": 8,
   "id": "7d34b175",
   "metadata": {
    "ExecuteTime": {
     "end_time": "2025-06-27T02:39:04.659727Z",
     "start_time": "2025-06-27T02:39:04.653313Z"
    }
   },
   "outputs": [],
   "source": [
    "class MyList:\n",
    "\tdef __init__(self, _list, dtype=None):\n",
    "\t\tif not isinstance(_list, list):\n",
    "\t\t\traise TypeError(\"Input must be a list\")\n",
    "\t\tif dtype is None:\n",
    "\t\t\tif not _list:\n",
    "\t\t\t\traise ValueError(\"Input list cannot be empty\")\n",
    "\t\t\tif isinstance(_list[0], int):\n",
    "\t\t\t\tself.dtype = int\n",
    "\t\t\telif isinstance(_list[0], float):\n",
    "\t\t\t\tself.dtype = float\n",
    "\t\t\telse:\n",
    "\t\t\t\traise TypeError(\"List must contain only integers or floats\")\n",
    "\t\telif dtype not in [\"int\", \"float\"]:\n",
    "\t\t\traise TypeError(\"dtype must be 'int' or 'float'\")\n",
    "\t\telse:\n",
    "\t\t\tself.dtype = dtype\n",
    "\t\t\t\n",
    "\t\tself.__list = []\n",
    "\t\tfor each in _list:\n",
    "\t\t\tif isinstance(each, self.dtype):\n",
    "\t\t\t\tself.__list.append(each)\n",
    "\t\t\telse:\n",
    "\t\t\t\traise TypeError(\"List must contain only integers or floats\")\n",
    "\t\t\t\n",
    "\t\tself.len = len(self.__list)\n",
    "\n",
    "\tdef __len__(self):\n",
    "\t\treturn self.len\n",
    "\n",
    "\tdef __repr__(self):\n",
    "\t\treturn f\"MyList({self.__list})\"\n",
    "\n",
    "\tdef __add__(self, other):\n",
    "\t\ttemp_list = self.__list.copy()\n",
    "\t\tif isinstance(other, MyList):\n",
    "\t\t\tfor i in range(len(self.__list)):\n",
    "\t\t\t\ttemp_list[i] += other.__list[i]\n",
    "\t\telse:\n",
    "\t\t\tfor i in range(len(self.__list)):\n",
    "\t\t\t\ttemp_list[i] += other\n",
    "\t\treturn MyList(temp_list)\n",
    "\n",
    "\tdef __sub__(self, other):\n",
    "\t\ttemp_list = self.__list.copy()\n",
    "\t\tif isinstance(other, MyList):\n",
    "\t\t\tfor i in range(len(self.__list)):\n",
    "\t\t\t\ttemp_list[i] -= other.__list[i]\n",
    "\t\telse:\n",
    "\t\t\tfor i in range(len(self.__list)):\n",
    "\t\t\t\ttemp_list[i] -= other\n",
    "\t\treturn MyList(temp_list)\n",
    "\n",
    "\tdef __mul__(self, other):\n",
    "\t\ttemp_list = self.__list.copy()\n",
    "\t\tif isinstance(other, MyList):\n",
    "\t\t\tfor i in range(len(self.__list)):\n",
    "\t\t\t\ttemp_list[i] *= other.__list[i]\n",
    "\t\telse:\n",
    "\t\t\tfor i in range(len(self.__list)):\n",
    "\t\t\t\ttemp_list[i] *= other\n",
    "\t\treturn MyList(temp_list)\n",
    "\t\n",
    "\tdef __truediv__(self, other):\n",
    "\t\ttemp_list = self.__list.copy()\n",
    "\t\tif isinstance(other, MyList):\n",
    "\t\t\tfor i in range(len(self.__list)):\n",
    "\t\t\t\ttemp_list[i] /= other.__list[i]\n",
    "\t\telse:\n",
    "\t\t\tfor i in range(len(self.__list)):\n",
    "\t\t\t\ttemp_list[i] /= other\n",
    "\t\treturn MyList(temp_list)\n",
    "\t\n",
    "\tdef __floordiv__(self, other):\n",
    "\t\ttemp_list = self.__list.copy()\n",
    "\t\tif isinstance(other, MyList):\n",
    "\t\t\tfor i in range(len(self.__list)):\n",
    "\t\t\t\ttemp_list[i] //= other.__list[i]\n",
    "\t\telse:\n",
    "\t\t\tfor i in range(len(self.__list)):\n",
    "\t\t\t\ttemp_list[i] //= other\n",
    "\t\treturn MyList(temp_list)\n",
    "\t\n",
    "\tdef __mod__(self, other):\n",
    "\t\ttemp_list = self.__list.copy()\n",
    "\t\tif isinstance(other, MyList):\n",
    "\t\t\tfor i in range(len(self.__list)):\n",
    "\t\t\t\ttemp_list[i] %= other.__list[i]\n",
    "\t\telse:\n",
    "\t\t\tfor i in range(len(self.__list)):\n",
    "\t\t\t\ttemp_list[i] %= other\n",
    "\t\treturn MyList(temp_list)\n",
    "\t\n",
    "\tdef __pow__(self, other):\n",
    "\t\ttemp_list = self.__list.copy()\n",
    "\t\tif isinstance(other, MyList):\n",
    "\t\t\tfor i in range(len(self.__list)):\n",
    "\t\t\t\ttemp_list[i] **= other.__list[i]\n",
    "\t\telse:\n",
    "\t\t\tfor i in range(len(self.__list)):\n",
    "\t\t\t\ttemp_list[i] **= other\n",
    "\t\treturn MyList(temp_list)"
   ]
  },
  {
   "cell_type": "code",
   "execution_count": 9,
   "id": "5cb57293",
   "metadata": {},
   "outputs": [
    {
     "name": "stdout",
     "output_type": "stream",
     "text": [
      "MyList([6, 6, 6, 6, 6])\n",
      "MyList([-4, -2, 0, 2, 4])\n",
      "MyList([5, 8, 9, 8, 5])\n",
      "MyList([0.2, 0.5, 1.0, 2.0, 5.0])\n",
      "MyList([1, 2, 0, 0, 0])\n",
      "MyList([1, 16, 27, 16, 5])\n",
      "MyList([0, 0, 1, 2, 5])\n"
     ]
    }
   ],
   "source": [
    "list1 = MyList([1, 2, 3, 4, 5])\n",
    "list2 = MyList([5, 4, 3, 2, 1])\n",
    "\n",
    "print(list1 + list2)\n",
    "print(list1 - list2)\n",
    "print(list1 * list2)\n",
    "print(list1 / list2)\n",
    "print(list1 % list2)\n",
    "print(list1 ** list2)\n",
    "print(list1 // list2)"
   ]
  },
  {
   "cell_type": "code",
   "execution_count": 10,
   "id": "e248563f",
   "metadata": {},
   "outputs": [
    {
     "data": {
      "text/plain": [
       "array([1, 2, 3, 4, 5])"
      ]
     },
     "execution_count": 10,
     "metadata": {},
     "output_type": "execute_result"
    }
   ],
   "source": [
    "import numpy as np\n",
    "a = np.array([1,2,3,4,5])\n",
    "a\n"
   ]
  },
  {
   "cell_type": "code",
   "execution_count": 11,
   "id": "55480050",
   "metadata": {},
   "outputs": [
    {
     "data": {
      "text/plain": [
       "array([5, 4, 3, 2, 1])"
      ]
     },
     "execution_count": 11,
     "metadata": {},
     "output_type": "execute_result"
    }
   ],
   "source": [
    "b = np.array([5, 4, 3, 2, 1])\n",
    "b"
   ]
  },
  {
   "cell_type": "code",
   "execution_count": 12,
   "id": "fb825b74",
   "metadata": {},
   "outputs": [
    {
     "data": {
      "text/plain": [
       "array([6, 6, 6, 6, 6])"
      ]
     },
     "execution_count": 12,
     "metadata": {},
     "output_type": "execute_result"
    }
   ],
   "source": [
    "a + b\n"
   ]
  },
  {
   "cell_type": "code",
   "execution_count": 13,
   "id": "3ea113e8",
   "metadata": {},
   "outputs": [
    {
     "data": {
      "text/plain": [
       "array([ 1, 16, 27, 16,  5])"
      ]
     },
     "execution_count": 13,
     "metadata": {},
     "output_type": "execute_result"
    }
   ],
   "source": [
    "a ** b"
   ]
  },
  {
   "cell_type": "code",
   "execution_count": 14,
   "id": "89220420",
   "metadata": {},
   "outputs": [
    {
     "ename": "TypeError",
     "evalue": "only integer scalar arrays can be converted to a scalar index",
     "output_type": "error",
     "traceback": [
      "\u001b[1;31m---------------------------------------------------------------------------\u001b[0m",
      "\u001b[1;31mTypeError\u001b[0m                                 Traceback (most recent call last)",
      "Cell \u001b[1;32mIn[14], line 1\u001b[0m\n\u001b[1;32m----> 1\u001b[0m \u001b[43mnp\u001b[49m\u001b[38;5;241;43m.\u001b[39;49m\u001b[43mconcatenate\u001b[49m\u001b[43m(\u001b[49m\u001b[43ma\u001b[49m\u001b[43m,\u001b[49m\u001b[43m \u001b[49m\u001b[43mb\u001b[49m\u001b[43m)\u001b[49m\n",
      "\u001b[1;31mTypeError\u001b[0m: only integer scalar arrays can be converted to a scalar index"
     ]
    }
   ],
   "source": [
    "np.concatenate(a, b)\n"
   ]
  },
  {
   "cell_type": "code",
   "execution_count": 6,
   "id": "314096b9",
   "metadata": {},
   "outputs": [
    {
     "data": {
      "text/plain": [
       "array([1, 2, 3, 4, 5, 5, 4, 3, 2, 1])"
      ]
     },
     "execution_count": 6,
     "metadata": {},
     "output_type": "execute_result"
    }
   ],
   "source": [
    "np.concatenate([a, b])"
   ]
  },
  {
   "cell_type": "code",
   "execution_count": 15,
   "id": "3ae31686",
   "metadata": {},
   "outputs": [
    {
     "data": {
      "text/plain": [
       "(5,)"
      ]
     },
     "execution_count": 15,
     "metadata": {},
     "output_type": "execute_result"
    }
   ],
   "source": [
    "a.shape"
   ]
  },
  {
   "cell_type": "code",
   "execution_count": 24,
   "id": "7b4d5f84",
   "metadata": {},
   "outputs": [
    {
     "name": "stdout",
     "output_type": "stream",
     "text": [
      "[[1 2 3]\n",
      " [4 5 6]]\n",
      "(2, 3)\n",
      "[[1 2]\n",
      " [3 4]\n",
      " [5 6]]\n",
      "(3, 2)\n"
     ]
    }
   ],
   "source": [
    "a = np.array([[1,2,3], [4, 5, 6]])\n",
    "a.ndim\n",
    "print(a)\n",
    "print(a.shape)\n",
    "a = a.reshape(-1,2)\n",
    "print(a)\n",
    "print(a.shape)\n"
   ]
  },
  {
   "cell_type": "code",
   "execution_count": null,
   "id": "5aaf3edd",
   "metadata": {},
   "outputs": [],
   "source": []
  }
 ],
 "metadata": {
  "kernelspec": {
   "display_name": "Python 3",
   "language": "python",
   "name": "python3"
  },
  "language_info": {
   "codemirror_mode": {
    "name": "ipython",
    "version": 3
   },
   "file_extension": ".py",
   "mimetype": "text/x-python",
   "name": "python",
   "nbconvert_exporter": "python",
   "pygments_lexer": "ipython3",
   "version": "3.12.4"
  }
 },
 "nbformat": 4,
 "nbformat_minor": 5
}
